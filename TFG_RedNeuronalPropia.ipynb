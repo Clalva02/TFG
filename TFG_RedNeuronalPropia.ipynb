{
  "nbformat": 4,
  "nbformat_minor": 0,
  "metadata": {
    "colab": {
      "name": "TFG_RedNeuronalPropia.ipynb",
      "provenance": [],
      "collapsed_sections": [],
      "mount_file_id": "1D6X9aITTUiKQYK6G-4GqPFbf8ntqj1X7",
      "authorship_tag": "ABX9TyPHjp95bXeelRORAUBGchfD",
      "include_colab_link": true
    },
    "kernelspec": {
      "display_name": "Python 3",
      "name": "python3"
    }
  },
  "cells": [
    {
      "cell_type": "markdown",
      "metadata": {
        "id": "view-in-github",
        "colab_type": "text"
      },
      "source": [
        "<a href=\"https://colab.research.google.com/github/Clalva02/TFG/blob/main/TFG_RedNeuronalPropia.ipynb\" target=\"_parent\"><img src=\"https://colab.research.google.com/assets/colab-badge.svg\" alt=\"Open In Colab\"/></a>"
      ]
    },
    {
      "cell_type": "code",
      "metadata": {
        "colab": {
          "base_uri": "https://localhost:8080/"
        },
        "id": "OBOEq4I3I5vx",
        "outputId": "b024969a-c893-4120-f38f-b996e5f0d2da"
      },
      "source": [
        "import numpy as np\n",
        "from enum import Enum\n",
        "from matplotlib import pyplot as plt\n",
        "import random\n",
        "!pip install pandas \n",
        "import pandas as pd\n",
        "import gzip\n",
        "from sklearn.model_selection import train_test_split\n",
        "from sklearn.preprocessing import StandardScaler\n",
        "from keras.datasets import mnist"
      ],
      "execution_count": null,
      "outputs": [
        {
          "output_type": "stream",
          "text": [
            "Requirement already satisfied: pandas in /usr/local/lib/python3.7/dist-packages (1.1.5)\n",
            "Requirement already satisfied: python-dateutil>=2.7.3 in /usr/local/lib/python3.7/dist-packages (from pandas) (2.8.1)\n",
            "Requirement already satisfied: pytz>=2017.2 in /usr/local/lib/python3.7/dist-packages (from pandas) (2018.9)\n",
            "Requirement already satisfied: numpy>=1.15.4 in /usr/local/lib/python3.7/dist-packages (from pandas) (1.19.5)\n",
            "Requirement already satisfied: six>=1.5 in /usr/local/lib/python3.7/dist-packages (from python-dateutil>=2.7.3->pandas) (1.15.0)\n"
          ],
          "name": "stdout"
        }
      ]
    },
    {
      "cell_type": "code",
      "metadata": {
        "id": "t4An3807EfHG",
        "colab": {
          "base_uri": "https://localhost:8080/"
        },
        "outputId": "b2608455-ec9a-4292-ebaf-40847781b0c1"
      },
      "source": [
        "(X_train, Y_train), (X_test, Y_test) = mnist.load_data()"
      ],
      "execution_count": null,
      "outputs": [
        {
          "output_type": "stream",
          "text": [
            "Downloading data from https://storage.googleapis.com/tensorflow/tf-keras-datasets/mnist.npz\n",
            "11493376/11490434 [==============================] - 0s 0us/step\n"
          ],
          "name": "stdout"
        }
      ]
    },
    {
      "cell_type": "code",
      "metadata": {
        "colab": {
          "base_uri": "https://localhost:8080/"
        },
        "id": "3zMhep3HVC8r",
        "outputId": "0faa58fe-1295-4081-ef06-129087dcc0b7"
      },
      "source": [
        "print(X_train.shape,Y_train.shape,X_test.shape,Y_test.shape)\n",
        "print(type(X_train),type(Y_train),type(X_test),type(Y_test))"
      ],
      "execution_count": null,
      "outputs": [
        {
          "output_type": "stream",
          "text": [
            "(60000, 28, 28) (60000,) (10000, 28, 28) (10000,)\n",
            "<class 'numpy.ndarray'> <class 'numpy.ndarray'> <class 'numpy.ndarray'> <class 'numpy.ndarray'>\n"
          ],
          "name": "stdout"
        }
      ]
    },
    {
      "cell_type": "code",
      "metadata": {
        "colab": {
          "base_uri": "https://localhost:8080/"
        },
        "id": "77UF4vRWYYPK",
        "outputId": "abfa8862-3686-461f-e1cd-7be67495d5ea"
      },
      "source": [
        "print(Y_train[1:100])"
      ],
      "execution_count": null,
      "outputs": [
        {
          "output_type": "stream",
          "text": [
            "[0 4 1 9 2 1 3 1 4 3 5 3 6 1 7 2 8 6 9 4 0 9 1 1 2 4 3 2 7 3 8 6 9 0 5 6 0\n",
            " 7 6 1 8 7 9 3 9 8 5 9 3 3 0 7 4 9 8 0 9 4 1 4 4 6 0 4 5 6 1 0 0 1 7 1 6 3\n",
            " 0 2 1 1 7 9 0 2 6 7 8 3 9 0 4 6 7 4 6 8 0 7 8 3 1]\n"
          ],
          "name": "stdout"
        }
      ]
    },
    {
      "cell_type": "code",
      "metadata": {
        "colab": {
          "base_uri": "https://localhost:8080/"
        },
        "id": "sj0JoePzVuXv",
        "outputId": "97e9c1dd-cc13-4bf9-9342-b514ecf718fb"
      },
      "source": [
        "def vectorized_result(j):\n",
        "  e = np.zeros((10, 1))\n",
        "  e[j] = 1.0\n",
        "  return e\n",
        "X_train=np.reshape(X_train,(60000,28*28,1))/255\n",
        "X_test=np.reshape(X_test,(10000,28*28,1))/255\n",
        "Y_train =np.array([vectorized_result(y) for y in Y_train])\n",
        "print(X_train.shape,Y_train.shape,X_test.shape,Y_test.shape)\n",
        "print(type(X_train),type(Y_train),type(X_test),type(Y_test))"
      ],
      "execution_count": null,
      "outputs": [
        {
          "output_type": "stream",
          "text": [
            "(60000, 784, 1) (60000, 10, 1) (10000, 784, 1) (10000,)\n",
            "<class 'numpy.ndarray'> <class 'numpy.ndarray'> <class 'numpy.ndarray'> <class 'numpy.ndarray'>\n"
          ],
          "name": "stdout"
        }
      ]
    },
    {
      "cell_type": "code",
      "metadata": {
        "id": "YsZgjFZz9Sge"
      },
      "source": [
        "test_data =list(zip(X_test, Y_test))\n",
        "training_data = list(zip(X_train, Y_train))\n",
        "random.shuffle(training_data)\n",
        "random.shuffle(test_data)"
      ],
      "execution_count": null,
      "outputs": []
    },
    {
      "cell_type": "code",
      "metadata": {
        "id": "5nFSwB6KIAgY"
      },
      "source": [
        "def sigmoid(z):\n",
        "    return 1.0/(1.0+np.exp(-z))\n",
        "\n",
        "def dsigmoid(z):\n",
        "    return sigmoid(z)*(1-sigmoid(z))\n",
        "class Neuralnetwork(object):\n",
        "  def __init__(self,forma):\n",
        "    self.ncapas = len(forma)\n",
        "    self.forma = forma\n",
        "    self.biases = [np.random.randn(y, 1) for y in forma[1:]]#vector de bias\n",
        "    self.weights = [np.random.randn(y, x) for x, y in zip(forma[:-1], forma[1:])]#matriz de weights\n",
        "    #La funcion init es la primera uqe se lleva a cabo\n",
        "    #En la funcion init hacemos que el programa almacene el numero de capas y de neuronas que hay en la red, y generamos los pesos y biases de\n",
        "    #cada neurona, escepto para la primera pues esta es la de los imputs\n",
        "    \n",
        "\n",
        "  def regresion(self,a):\n",
        "    for b, w in zip(self.biases, self.weights):\n",
        "      a = sigmoid(np.dot(w,np.asfarray(a,float))+b)\n",
        "    return a\n",
        "    #definimos la neurona de forma que toma los valores a preexistentes provenientes de las neurona anterior y aplica la regresion lineal con los w y b\n",
        "    # definidos en el init  ademas aplica la funcion de activación que aporta el caracter no lineal\n",
        "\n",
        "  def backprop(self,x,y):#los imputs de la funcion son los imputs y los outputs que entrenan el programa\n",
        "    #creamos los vectores donde vamos a almacenar las variaciones que vamos a aplicar a los pesos y los biases\n",
        "    nabla_b = [np.zeros(b.shape) for b in self.biases]\n",
        "    nabla_w = [np.zeros(w.shape) for w in self.weights]\n",
        "    #introducimos los datos(inputs)\n",
        "    activation = x\n",
        "    activations = [x]#guardandolos en un array en el que la primera columna van a ser los datos de entrada\n",
        "    #y creamos un array donde guardar los valores de la regresion lineal\n",
        "    zs = []\n",
        "    #en el bucle damos los valores de z(regresion) y de a, una vez aplicada la funcion de activación\n",
        "    for b, w in zip(self.biases, self.weights):\n",
        "      z = np.dot(w, activation)+b\n",
        "      zs.append(z)\n",
        "      activation = sigmoid(z)\n",
        "      activations.append(activation)#guardamos en columnas los nuevos datos\n",
        "    #calculamos la variacion con la formula de la propagacion lineal con los valores de la ultima columna de a y z\n",
        "    delta = self.cost_derivative(activations[-1], y) * dsigmoid(zs[-1])\n",
        "    #y calculamos la variación que aplicaremos a la w y b\n",
        "    nabla_b[-1] = delta\n",
        "    nabla_w[-1] = np.dot(delta, activations[-2].transpose())\n",
        "    for l in range(2, self.ncapas):#en el resto de columnas hacemos la propagacion hacia atras\n",
        "      z = zs[-l]\n",
        "      sp = dsigmoid(z)\n",
        "      delta = np.dot(self.weights[-l+1].transpose(), delta) * sp\n",
        "      nabla_b[-l] = delta\n",
        "      nabla_w[-l] = np.dot(delta, activations[-l-1].transpose())\n",
        "      return (nabla_b, nabla_w)\n",
        "    #programamos el stocastic gradient descendant en el que tenemos que introducir los datos de entrenamiento, las epoch(el numero de veces que vamos a iterar),\n",
        "    #el tamaño de los grupos que vamos a utilizar para la aproximacion del gradient descendent, la tasa de aprendizaje eta y en caso de datos para el testdata\n",
        "  \n",
        "  def SGD(self, training_data, epochs, mini_batch_size, eta, test_data=None):#training data son los datos de entrada/input x y su clasificacion/output y\n",
        "    p=[]\n",
        "    if test_data: n_test = len(test_data)\n",
        "    n = len(training_data)\n",
        "    for j in range(epochs):\n",
        "      random.shuffle(training_data)#mexclamos los datos de entrenamiento\n",
        "      mini_batches = [training_data[k:k+mini_batch_size] for k in range(0, n, mini_batch_size)]#los dividimos en mini lotes\n",
        "      for mini_batch in mini_batches:\n",
        "        self.update_mini_batch(mini_batch, eta)#actualizamos los pesos y los bias\n",
        "      if test_data:#si hay test data vamos viendo como evalua los datos \n",
        "        print( \"Epoch {0}: {1} / {2}\".format(j, self.evaluate(test_data), n_test))\n",
        "        p.append(self.evaluate(test_data))\n",
        "      else:\n",
        "        print(\"Epoch {0} complete\".format(j))\n",
        "    return p\n",
        "\n",
        "  def update_mini_batch(self, mini_batch, eta):#con esta funcion implantamos la backpropagation en el SGD\n",
        "  #primero creamos los vectores vacios que contendran los incrementos de los b y w\n",
        "      nabla_b = [np.zeros(b.shape) for b in self.biases]\n",
        "      nabla_w = [np.zeros(w.shape) for w in self.weights]\n",
        "      for x, y in mini_batch:#tomando los valores (imput,output) dentro de cada minibatch\n",
        "          delta_nabla_b, delta_nabla_w = self.backprop(x, y)#aplicamos la propgacion hacia atras y se la sumamos a vectores vacios\n",
        "          nabla_b = [nb+dnb for nb, dnb in zip(nabla_b, delta_nabla_b)]\n",
        "          nabla_w = [nw+dnw for nw, dnw in zip(nabla_w, delta_nabla_w)]\n",
        "      self.weights = [w-(eta/len(mini_batch))*nw for w, nw in zip(self.weights, nabla_w)]#modificamos el total de los pesos con la formula del SGD\n",
        "      self.biases = [b-(eta/len(mini_batch))*nb for b, nb in zip(self.biases, nabla_b)]\n",
        "  \n",
        "  #definimos la funcion para evaluar los datos test\n",
        "  def evaluate(self, test_data):\n",
        "      test_results = [(np.argmax(self.regresion(x)), y) for (x, y) in test_data]\n",
        "      return sum(int(x == y) for (x, y) in test_results)\n",
        "\n",
        "  #la derivada de la funcion de coste\n",
        "  def cost_derivative(self, output_activations, y):\n",
        "      return (output_activations-y)"
      ],
      "execution_count": null,
      "outputs": []
    },
    {
      "cell_type": "code",
      "metadata": {
        "colab": {
          "base_uri": "https://localhost:8080/"
        },
        "id": "aL4GTaSPFBBV",
        "outputId": "0e942336-27ec-4859-c0bb-5ea467412fa6"
      },
      "source": [
        "net = Neuralnetwork([28*28, 100, 10])\n",
        "p=net.SGD(training_data, 30, 100, 1, test_data=test_data)"
      ],
      "execution_count": null,
      "outputs": [
        {
          "output_type": "stream",
          "text": [
            "Epoch 0: 3935 / 10000\n",
            "Epoch 1: 4823 / 10000\n",
            "Epoch 2: 5313 / 10000\n",
            "Epoch 3: 5422 / 10000\n",
            "Epoch 4: 5485 / 10000\n",
            "Epoch 5: 5521 / 10000\n",
            "Epoch 6: 5537 / 10000\n",
            "Epoch 7: 5565 / 10000\n",
            "Epoch 8: 5577 / 10000\n",
            "Epoch 9: 5605 / 10000\n",
            "Epoch 10: 5610 / 10000\n",
            "Epoch 11: 5614 / 10000\n",
            "Epoch 12: 5622 / 10000\n",
            "Epoch 13: 5622 / 10000\n",
            "Epoch 14: 5636 / 10000\n",
            "Epoch 15: 5641 / 10000\n",
            "Epoch 16: 5647 / 10000\n",
            "Epoch 17: 5653 / 10000\n",
            "Epoch 18: 5665 / 10000\n",
            "Epoch 19: 5660 / 10000\n",
            "Epoch 20: 5669 / 10000\n",
            "Epoch 21: 5670 / 10000\n",
            "Epoch 22: 5675 / 10000\n",
            "Epoch 23: 5683 / 10000\n",
            "Epoch 24: 5686 / 10000\n",
            "Epoch 25: 5691 / 10000\n",
            "Epoch 26: 5694 / 10000\n",
            "Epoch 27: 5699 / 10000\n",
            "Epoch 28: 5713 / 10000\n",
            "Epoch 29: 5704 / 10000\n"
          ],
          "name": "stdout"
        }
      ]
    },
    {
      "cell_type": "code",
      "metadata": {
        "id": "TwczS_JRZsQp",
        "colab": {
          "base_uri": "https://localhost:8080/",
          "height": 295
        },
        "outputId": "5f371b93-4bdc-41a0-e1c9-f9774a75e1c2"
      },
      "source": [
        "P=np.array(p)/10000*100\n",
        "plt.plot(P)\n",
        "plt.title('Model Accuracy')\n",
        "plt.ylabel('Accuracy $\\%$')\n",
        "plt.xlabel('Epoch')\n",
        "plt.legend(['Validation'], loc='upper left')\n",
        "plt.show()"
      ],
      "execution_count": null,
      "outputs": [
        {
          "output_type": "display_data",
          "data": {
            "image/png": "[encoded data removed]",
            "text/plain": [
              "<Figure size 432x288 with 1 Axes>"
            ]
          },
          "metadata": {
            "tags": [],
            "needs_background": "light"
          }
        }
      ]
    },
    {
      "cell_type": "code",
      "metadata": {
        "id": "pDsNtgv2rnzU",
        "colab": {
          "base_uri": "https://localhost:8080/"
        },
        "outputId": "a054b933-adfe-4c3a-81d5-6b87fa22b7d5"
      },
      "source": [
        "net2 = Neuralnetwork([28*28, 200, 100, 10])\n",
        "m=net2.SGD(training_data, 30, 100, 1, test_data=test_data)"
      ],
      "execution_count": null,
      "outputs": [
        {
          "output_type": "stream",
          "text": [
            "Epoch 0: 3955 / 10000\n",
            "Epoch 1: 5074 / 10000\n",
            "Epoch 2: 5306 / 10000\n",
            "Epoch 3: 5673 / 10000\n",
            "Epoch 4: 6057 / 10000\n",
            "Epoch 5: 6177 / 10000\n",
            "Epoch 6: 6401 / 10000\n",
            "Epoch 7: 6979 / 10000\n",
            "Epoch 8: 7065 / 10000\n",
            "Epoch 9: 7139 / 10000\n",
            "Epoch 10: 7168 / 10000\n",
            "Epoch 11: 7222 / 10000\n",
            "Epoch 12: 7243 / 10000\n",
            "Epoch 13: 7268 / 10000\n",
            "Epoch 14: 7301 / 10000\n",
            "Epoch 15: 7291 / 10000\n",
            "Epoch 16: 7323 / 10000\n",
            "Epoch 17: 7347 / 10000\n",
            "Epoch 18: 7364 / 10000\n",
            "Epoch 19: 7367 / 10000\n",
            "Epoch 20: 7381 / 10000\n",
            "Epoch 21: 7390 / 10000\n",
            "Epoch 22: 7401 / 10000\n",
            "Epoch 23: 7408 / 10000\n",
            "Epoch 24: 7411 / 10000\n",
            "Epoch 25: 7414 / 10000\n",
            "Epoch 26: 7414 / 10000\n",
            "Epoch 27: 7433 / 10000\n",
            "Epoch 28: 7442 / 10000\n",
            "Epoch 29: 7446 / 10000\n"
          ],
          "name": "stdout"
        }
      ]
    },
    {
      "cell_type": "code",
      "metadata": {
        "colab": {
          "base_uri": "https://localhost:8080/",
          "height": 295
        },
        "id": "qd0t3mSVGMrM",
        "outputId": "a24dd5c2-37e4-4cb8-d1b1-08ec40cccaab"
      },
      "source": [
        "M=np.array(m)/10000*100\n",
        "plt.plot(M)\n",
        "plt.title('Model Accuracy')\n",
        "plt.ylabel('Accuracy $\\%$')\n",
        "plt.xlabel('Epoch')\n",
        "plt.legend(['Validation'], loc='upper left')\n",
        "plt.show()"
      ],
      "execution_count": null,
      "outputs": [
        {
          "output_type": "display_data",
          "data": {
            "image/png": "[encoded data removed]",
            "text/plain": [
              "<Figure size 432x288 with 1 Axes>"
            ]
          },
          "metadata": {
            "tags": [],
            "needs_background": "light"
          }
        }
      ]
    },
    {
      "cell_type": "code",
      "metadata": {
        "colab": {
          "base_uri": "https://localhost:8080/"
        },
        "id": "GMIWzRbJDYl7",
        "outputId": "1b3f5ebd-b331-4e1f-f797-697cedec14c1"
      },
      "source": [
        "net3 = Neuralnetwork([28*28, 100, 10])\n",
        "o=net3.SGD(training_data, 30, 100, 0.1, test_data=test_data)"
      ],
      "execution_count": null,
      "outputs": [
        {
          "output_type": "stream",
          "text": [
            "Epoch 0: 2188 / 10000\n",
            "Epoch 1: 2760 / 10000\n",
            "Epoch 2: 3179 / 10000\n",
            "Epoch 3: 3605 / 10000\n",
            "Epoch 4: 3886 / 10000\n",
            "Epoch 5: 4208 / 10000\n",
            "Epoch 6: 4540 / 10000\n",
            "Epoch 7: 4867 / 10000\n",
            "Epoch 8: 5130 / 10000\n",
            "Epoch 9: 5363 / 10000\n",
            "Epoch 10: 5547 / 10000\n",
            "Epoch 11: 5649 / 10000\n",
            "Epoch 12: 5753 / 10000\n",
            "Epoch 13: 5809 / 10000\n",
            "Epoch 14: 5858 / 10000\n",
            "Epoch 15: 5913 / 10000\n",
            "Epoch 16: 5947 / 10000\n",
            "Epoch 17: 5985 / 10000\n",
            "Epoch 18: 6019 / 10000\n",
            "Epoch 19: 6047 / 10000\n",
            "Epoch 20: 6068 / 10000\n",
            "Epoch 21: 6094 / 10000\n",
            "Epoch 22: 6119 / 10000\n",
            "Epoch 23: 6151 / 10000\n",
            "Epoch 24: 6165 / 10000\n",
            "Epoch 25: 6183 / 10000\n",
            "Epoch 26: 6191 / 10000\n",
            "Epoch 27: 6203 / 10000\n",
            "Epoch 28: 6209 / 10000\n",
            "Epoch 29: 6230 / 10000\n"
          ],
          "name": "stdout"
        }
      ]
    },
    {
      "cell_type": "code",
      "metadata": {
        "colab": {
          "base_uri": "https://localhost:8080/",
          "height": 295
        },
        "id": "6aZos2aMGOqL",
        "outputId": "0902bd30-70f7-4169-a621-8c66ee201ffe"
      },
      "source": [
        "O=np.array(o)/10000*100\n",
        "plt.plot(O)\n",
        "plt.title('Model Accuracy')\n",
        "plt.ylabel('Accuracy $\\%$')\n",
        "plt.xlabel('Epoch')\n",
        "plt.legend(['Validation'], loc='upper left')\n",
        "plt.show()"
      ],
      "execution_count": null,
      "outputs": [
        {
          "output_type": "display_data",
          "data": {
            "image/png": "[encoded data removed]",
            "text/plain": [
              "<Figure size 432x288 with 1 Axes>"
            ]
          },
          "metadata": {
            "tags": [],
            "needs_background": "light"
          }
        }
      ]
    },
    {
      "cell_type": "code",
      "metadata": {
        "colab": {
          "base_uri": "https://localhost:8080/",
          "height": 295
        },
        "id": "PyKAnfN0DpJF",
        "outputId": "35ec5eb9-7544-472f-9fcb-c40afcd3cdcb"
      },
      "source": [
        "plt.plot(P, 'm-', label=r'$[784,100,10]$   $\\eta=1$')\n",
        "plt.plot(M, 'b-', label=r'$[784,200,100,10]$   $\\eta=1$')\n",
        "plt.plot(O, 'g-', label=r'$[784,100,10]$   $\\eta=0,1$')\n",
        "plt.title('Models Accuracy')\n",
        "plt.ylabel('Accuracy $\\%$')\n",
        "plt.xlabel('Epoch')\n",
        "plt.legend( loc='lower right')\n",
        "plt.show()"
      ],
      "execution_count": null,
      "outputs": [
        {
          "output_type": "display_data",
          "data": {
            "image/png": "[encoded data removed]",
            "text/plain": [
              "<Figure size 432x288 with 1 Axes>"
            ]
          },
          "metadata": {
            "tags": [],
            "needs_background": "light"
          }
        }
      ]
    },
    {
      "cell_type": "code",
      "metadata": {
        "id": "LkXew3xMtzbb"
      },
      "source": [
        ""
      ],
      "execution_count": null,
      "outputs": []
    }
  ]
}