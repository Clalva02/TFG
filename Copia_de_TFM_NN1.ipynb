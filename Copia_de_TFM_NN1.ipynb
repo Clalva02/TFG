{
  "nbformat": 4,
  "nbformat_minor": 0,
  "metadata": {
    "colab": {
      "name": "Copia de TFM-NN1.ipynb",
      "provenance": [],
      "collapsed_sections": [
        "3-M6TxeuBFAB",
        "2DAlEsE6COEC",
        "nlFno0DRDzSd",
        "7w6hWBgUw42e",
        "QrJ-bH9q0TTI",
        "cXqnUSAHJh4I",
        "67d6wPNgJlM8",
        "MD7AP9vzU5Su",
        "E9KpeZHdY32k",
        "bT1MhzeaaLhU"
      ],
      "include_colab_link": true
    },
    "kernelspec": {
      "display_name": "Python 3",
      "name": "python3"
    }
  },
  "cells": [
    {
      "cell_type": "markdown",
      "metadata": {
        "id": "view-in-github",
        "colab_type": "text"
      },
      "source": [
        "<a href=\"https://colab.research.google.com/github/Clalva02/TFG/blob/main/Copia_de_TFM_NN1.ipynb\" target=\"_parent\"><img src=\"https://colab.research.google.com/assets/colab-badge.svg\" alt=\"Open In Colab\"/></a>"
      ]
    },
    {
      "cell_type": "markdown",
      "metadata": {
        "id": "3-M6TxeuBFAB"
      },
      "source": [
        "# Description\n",
        "\n",
        "This codes creates a CNN1d Inception for evaluating the neck classification events. \n"
      ]
    },
    {
      "cell_type": "markdown",
      "metadata": {
        "id": "2DAlEsE6COEC"
      },
      "source": [
        "# Imports"
      ]
    },
    {
      "cell_type": "code",
      "metadata": {
        "id": "sDvCpRMRvO3k"
      },
      "source": [
        "import os\n",
        "import math\n",
        "from math import sqrt\n",
        "import sys\n",
        "import numpy as np\n",
        "import random\n",
        "import scipy.stats\n",
        "from pylab import *\n",
        "import pickle\n",
        "import matplotlib.pyplot as plt\n",
        "from matplotlib.ticker import MaxNLocator\n",
        "from time import time\n",
        "\n",
        "from keras.models import Sequential , model_from_json, load_model\n",
        "import tensorflow as tf\n",
        "#from keras.utils import multi_gpu_model\n",
        "from tensorflow.python.keras.layers import Dense, Lambda, Dropout,Convolution1D, MaxPooling1D,AveragePooling1D, Flatten\n",
        "from tensorflow.python.keras.layers import BatchNormalization, Activation, ZeroPadding1D, ReLU, add, concatenate\n",
        "from tensorflow.python.keras import Sequential, Input, Model\n",
        "from tensorflow import keras\n",
        "\n",
        "from sklearn.metrics import classification_report, roc_curve, auc, mean_squared_error, mean_absolute_error, precision_recall_curve\n",
        "\n",
        "import pandas as pd"
      ],
      "execution_count": 80,
      "outputs": []
    },
    {
      "cell_type": "markdown",
      "metadata": {
        "id": "NMbDFvDaC1R6"
      },
      "source": [
        "## Libraries for equal formating plots"
      ]
    },
    {
      "cell_type": "code",
      "metadata": {
        "id": "nxWtgrYKCtKG"
      },
      "source": [
        "import matplotlib as mpl# define model\n",
        "\n",
        "mpl.rcParams['xtick.labelsize'] = 'large'\n",
        "mpl.rcParams['ytick.labelsize'] = 'large'\n",
        "mpl.rcParams['axes.labelsize'] = 'large'\n",
        "mpl.rcParams['axes.titlesize'] = 'large'\n",
        "mpl.rcParams['legend.fontsize'] = 'large'\n",
        "mpl.rcParams['font.size'] = '12'\n",
        "np.set_printoptions(threshold=np.inf)"
      ],
      "execution_count": 81,
      "outputs": []
    },
    {
      "cell_type": "markdown",
      "metadata": {
        "id": "-UX3WNLZDmpt"
      },
      "source": [
        "## Libraries for importing data"
      ]
    },
    {
      "cell_type": "code",
      "metadata": {
        "id": "X8D7v0dp3GvS"
      },
      "source": [
        "# Code to read csv file into colaboratory:\n",
        "!pip install -U -q PyDrive\n",
        "from pydrive.auth import GoogleAuth\n",
        "from pydrive.drive import GoogleDrive\n",
        "from google.colab import auth\n",
        "from oauth2client.client import GoogleCredentials"
      ],
      "execution_count": 82,
      "outputs": []
    },
    {
      "cell_type": "code",
      "metadata": {
        "id": "c03cEWvSv0Bw"
      },
      "source": [
        "auth.authenticate_user()\n",
        "gauth = GoogleAuth()\n",
        "gauth.credentials = GoogleCredentials.get_application_default()\n",
        "drive = GoogleDrive(gauth)"
      ],
      "execution_count": 83,
      "outputs": []
    },
    {
      "cell_type": "markdown",
      "metadata": {
        "id": "fpJtdF8qS-NQ"
      },
      "source": [
        "Libraries for statistical test"
      ]
    },
    {
      "cell_type": "code",
      "metadata": {
        "id": "p2rXlBWQS-Uy"
      },
      "source": [
        "from scipy.stats import *"
      ],
      "execution_count": 84,
      "outputs": []
    },
    {
      "cell_type": "markdown",
      "metadata": {
        "id": "nlFno0DRDzSd"
      },
      "source": [
        "# Get data"
      ]
    },
    {
      "cell_type": "code",
      "metadata": {
        "id": "K-AxkOJZwCER"
      },
      "source": [
        "# Para leer ficheros de datos simulados\n",
        "def opentimefile(namefile):\n",
        "\ttim0=time()\n",
        "\tdata = pd.read_csv(namefile, sep=\"\\t\", header=None)\n",
        "\ttimeread=time()-tim0\n",
        "\tprint(\"Load time:  %.4f\" % ( timeread) )\n",
        "\tprint(\"Size :     \", data.shape)\n",
        "\n",
        "\treturn data, timeread "
      ],
      "execution_count": 85,
      "outputs": []
    },
    {
      "cell_type": "markdown",
      "metadata": {
        "id": "7w6hWBgUw42e"
      },
      "source": [
        "## Get neck and nuclear recoil events"
      ]
    },
    {
      "cell_type": "code",
      "metadata": {
        "id": "O3fQB86PwLZQ"
      },
      "source": [
        "downloaded = drive.CreateFile({'id':'1NovlzvGusTSABAR5a0SDvzYpBB5fYBht'}) # replace the id with id of file you want to access\n",
        "downloaded.GetContentFile('neckevents.txt')\n",
        "#https://drive.google.com/file/d/1NovlzvGusTSABAR5a0SDvzYpBB5fYBht/view?usp=sharing"
      ],
      "execution_count": 86,
      "outputs": []
    },
    {
      "cell_type": "code",
      "metadata": {
        "id": "ou3paFK8wLqh"
      },
      "source": [
        "downloaded = drive.CreateFile({'id':'1U1_AdOtJcIqElpIQfhi6pUEs1qHME-Jd'}) # replace the id with id of file you want to access\n",
        "downloaded.GetContentFile('nuclearevents.txt')\n",
        "#https://drive.google.com/file/d/1U1_AdOtJcIqElpIQfhi6pUEs1qHME-Jd/view?usp=sharing"
      ],
      "execution_count": 87,
      "outputs": []
    },
    {
      "cell_type": "markdown",
      "metadata": {
        "id": "QrJ-bH9q0TTI"
      },
      "source": [
        "## Reading neck and nuclear recoil events"
      ]
    },
    {
      "cell_type": "code",
      "metadata": {
        "colab": {
          "base_uri": "https://localhost:8080/",
          "height": 0
        },
        "id": "jFUq2U_-0ra0",
        "outputId": "da2de5fa-8438-49eb-bf40-5cc37de207e7"
      },
      "source": [
        "newdirectory = \"./\"\n",
        "newfile = \"neckevents.txt\"\n",
        "t0=time()\n",
        "neckevents,time0= opentimefile(newdirectory+newfile)\n",
        "\n",
        "print('neckevents.shape:',neckevents.shape)"
      ],
      "execution_count": 88,
      "outputs": [
        {
          "output_type": "stream",
          "name": "stdout",
          "text": [
            "Load time:  33.9405\n",
            "Size :      (293000, 523)\n",
            "neckevents.shape: (293000, 523)\n"
          ]
        }
      ]
    },
    {
      "cell_type": "code",
      "metadata": {
        "colab": {
          "base_uri": "https://localhost:8080/",
          "height": 0
        },
        "id": "TcHlQIHi0rjb",
        "outputId": "541578ac-4909-4789-d902-71e4475cc698"
      },
      "source": [
        "newdirectory = \"./\"\n",
        "newfile = \"nuclearevents.txt\"\n",
        "\n",
        "t0=time()\n",
        "nuclearevents,time0= opentimefile(newdirectory+newfile)\n",
        "\n",
        "print('nuclearevents.shape:',nuclearevents.shape)"
      ],
      "execution_count": 89,
      "outputs": [
        {
          "output_type": "stream",
          "name": "stdout",
          "text": [
            "Load time:  31.9659\n",
            "Size :      (292963, 523)\n",
            "nuclearevents.shape: (292963, 523)\n"
          ]
        }
      ]
    },
    {
      "cell_type": "code",
      "metadata": {
        "id": "blWtgM_g0HGz"
      },
      "source": [
        "# # for testing purposes only, please remove\n",
        "# neckevents=neckevents.iloc[0:4]\n",
        "# print('neckevents.shape:',neckevents.shape)"
      ],
      "execution_count": 90,
      "outputs": []
    },
    {
      "cell_type": "code",
      "metadata": {
        "id": "69ho3huw0NM6"
      },
      "source": [
        "# # for testing purposes only, please remove\n",
        "# nuclearevents=nuclearevents.iloc[0:4]\n",
        "# print('nuclearevents.shape:',nuclearevents.shape)"
      ],
      "execution_count": 91,
      "outputs": []
    },
    {
      "cell_type": "markdown",
      "metadata": {
        "id": "mwuSwSwL2vMm"
      },
      "source": [
        "Hasta aquí hemos cargado los eventos de cuello neckevents (293000, 523) y los eventos nucleares nuclearevents (292963, 523)"
      ]
    },
    {
      "cell_type": "markdown",
      "metadata": {
        "id": "RE2M-m8CGpRu"
      },
      "source": [
        "# Transforming data\n",
        "Independent and dependent variables for each dataset are generated. Also auxiliary variables are extracted from the datasets, mainly they refers to position and energy of the event."
      ]
    },
    {
      "cell_type": "markdown",
      "metadata": {
        "id": "BoTSvVa12FG0"
      },
      "source": [
        "## For nuclear and neck events"
      ]
    },
    {
      "cell_type": "code",
      "metadata": {
        "colab": {
          "base_uri": "https://localhost:8080/",
          "height": 0
        },
        "id": "htaT7WGF0l4W",
        "outputId": "1d87da96-6dfb-4341-df98-c4c053e7337d"
      },
      "source": [
        "# Creating label vector\n",
        "ynecklabels = np.zeros(neckevents.shape[0])\n",
        "print(ynecklabels.shape)\n",
        "\n",
        "ynuclearlabels = 1+ np.zeros(nuclearevents.shape[0])\n",
        "print(ynuclearlabels.shape)"
      ],
      "execution_count": 92,
      "outputs": [
        {
          "output_type": "stream",
          "name": "stdout",
          "text": [
            "(293000,)\n",
            "(292963,)\n"
          ]
        }
      ]
    },
    {
      "cell_type": "markdown",
      "metadata": {
        "id": "HXw19zqV3MoD"
      },
      "source": [
        "Le asignamos la etiqueta de clasificado a los eventos de forma que los eventos de cuello tienen etiqueta \"0\" y los nucleares \"1\""
      ]
    },
    {
      "cell_type": "code",
      "metadata": {
        "colab": {
          "base_uri": "https://localhost:8080/",
          "height": 0
        },
        "id": "JVWtrSKO76sK",
        "outputId": "b19ad65e-546b-45d5-cb19-d38110e5c639"
      },
      "source": [
        "Y = np.concatenate([ynecklabels,ynuclearlabels]) \n",
        "print('Y.shape: ',Y.shape)\n",
        "print('Y first and last: ', Y[0],Y[-1])# define model"
      ],
      "execution_count": 93,
      "outputs": [
        {
          "output_type": "stream",
          "name": "stdout",
          "text": [
            "Y.shape:  (585963,)\n",
            "Y first and last:  0.0 1.0\n"
          ]
        }
      ]
    },
    {
      "cell_type": "code",
      "metadata": {
        "colab": {
          "base_uri": "https://localhost:8080/",
          "height": 0
        },
        "id": "5pf3Ilrk_4AK",
        "outputId": "e5b97648-bd0b-4f9a-aab7-9f1b25704a68"
      },
      "source": [
        "Xneck = neckevents.iloc[:,0:255]\n",
        "Xnuclear = nuclearevents.iloc[:,0:255]\n",
        "print('Xneck.shape: ',Xneck.shape)\n",
        "print('Xnuclear.shape: ',Xnuclear.shape)\n",
        "X = pd.concat([Xneck,Xnuclear], ignore_index=True)\n",
        "print('X.shape', X.shape)"
      ],
      "execution_count": 94,
      "outputs": [
        {
          "output_type": "stream",
          "name": "stdout",
          "text": [
            "Xneck.shape:  (293000, 255)\n",
            "Xnuclear.shape:  (292963, 255)\n",
            "X.shape (585963, 255)\n"
          ]
        }
      ]
    },
    {
      "cell_type": "markdown",
      "metadata": {
        "id": "wv7UPLSV3uI_"
      },
      "source": [
        "De los datos que tenemos nos quedamos con los valores de los 255 primeros datos, preguntar por qué"
      ]
    },
    {
      "cell_type": "code",
      "metadata": {
        "id": "O_FKZa7iNpDY"
      },
      "source": [
        "# the intensity of the pmt with maximum intensity is set to the unit, and rest of pmt appropriately renormalized\n",
        "X=X.div(X.max(axis=1), axis=0)"
      ],
      "execution_count": 95,
      "outputs": []
    },
    {
      "cell_type": "code",
      "metadata": {
        "id": "CtYc5jGPC4xX"
      },
      "source": [
        "# Quality check\n",
        "assert X.shape[0] == Y.shape[0]"
      ],
      "execution_count": 96,
      "outputs": []
    },
    {
      "cell_type": "code",
      "metadata": {
        "colab": {
          "base_uri": "https://localhost:8080/",
          "height": 0
        },
        "id": "XTclsIXM4NNR",
        "outputId": "5634af31-afac-4e99-837f-98f624306069"
      },
      "source": [
        "# New index for shuffling data\n",
        "indices = np.random.permutation(len(Y))\n",
        "print(len(indices))"
      ],
      "execution_count": 97,
      "outputs": [
        {
          "output_type": "stream",
          "name": "stdout",
          "text": [
            "585963\n"
          ]
        }
      ]
    },
    {
      "cell_type": "code",
      "metadata": {
        "id": "mKO3WRck4EW-"
      },
      "source": [
        "# Shuffling output\n",
        "Y = [int(Y[i]) for i in indices]\n",
        "#print(Y.shape)"
      ],
      "execution_count": 98,
      "outputs": []
    },
    {
      "cell_type": "code",
      "metadata": {
        "colab": {
          "base_uri": "https://localhost:8080/",
          "height": 0
        },
        "id": "ClMUphfo77ZL",
        "outputId": "cbe0c154-0cca-4625-c8a6-0ef65267ed45"
      },
      "source": [
        "# Shuffling input\n",
        "X=X.reindex(indices)\n",
        "print(X.shape)"
      ],
      "execution_count": 99,
      "outputs": [
        {
          "output_type": "stream",
          "name": "stdout",
          "text": [
            "(585963, 255)\n"
          ]
        }
      ]
    },
    {
      "cell_type": "markdown",
      "metadata": {
        "id": "DgcHh3Ar5BLE"
      },
      "source": [
        "A partir de aqui no entiendo que hace con los datos y por que los separa así"
      ]
    },
    {
      "cell_type": "code",
      "metadata": {
        "colab": {
          "base_uri": "https://localhost:8080/",
          "height": 0
        },
        "id": "nbxJcX09SL1O",
        "outputId": "63c4412b-9b79-4687-f467-25fd49fb3861"
      },
      "source": [
        "# Reconstructed Position \n",
        "posrec_neck = neckevents.iloc[:,513:516] # it should be verified that position is at 513:516\n",
        "posrec_nuclear = nuclearevents.iloc[:,513:516]\n",
        "posrec = pd.concat([posrec_neck,posrec_nuclear], ignore_index=True)\n",
        "print('posrec.shape',posrec.shape)"
      ],
      "execution_count": 100,
      "outputs": [
        {
          "output_type": "stream",
          "name": "stdout",
          "text": [
            "posrec.shape (585963, 3)\n"
          ]
        }
      ]
    },
    {
      "cell_type": "code",
      "metadata": {
        "colab": {
          "base_uri": "https://localhost:8080/",
          "height": 0
        },
        "id": "yJpFLadPbU2Q",
        "outputId": "c5769c44-5489-4822-a038-3f395493e031"
      },
      "source": [
        "# Shuffling input\n",
        "posrec=posrec.reindex(indices)\n",
        "print(posrec.shape)"
      ],
      "execution_count": 101,
      "outputs": [
        {
          "output_type": "stream",
          "name": "stdout",
          "text": [
            "(585963, 3)\n"
          ]
        }
      ]
    },
    {
      "cell_type": "code",
      "metadata": {
        "colab": {
          "base_uri": "https://localhost:8080/",
          "height": 0
        },
        "id": "su1Qxz8Mra3v",
        "outputId": "8a2b8846-adfd-4481-9e9d-e22ce1cd5b22"
      },
      "source": [
        "# Energy\n",
        "#Q=data.iloc[:,521]\n",
        "Q_neck = neckevents.iloc[:,521] # it should be verified that energy is at 521\n",
        "Q_nuclear = nuclearevents.iloc[:,521] # it should be verified that energy is at 521\n",
        "Q = pd.concat([Q_neck,Q_nuclear], ignore_index=True)\n",
        "print(Q.shape)"
      ],
      "execution_count": 102,
      "outputs": [
        {
          "output_type": "stream",
          "name": "stdout",
          "text": [
            "(585963,)\n"
          ]
        }
      ]
    },
    {
      "cell_type": "code",
      "metadata": {
        "colab": {
          "base_uri": "https://localhost:8080/",
          "height": 0
        },
        "id": "YPn5c5k1siAw",
        "outputId": "634c88ee-4a35-4539-dd31-95a25158ba4f"
      },
      "source": [
        "# Shuffling input\n",
        "Q=Q.reindex(indices)\n",
        "print(Q.shape)"
      ],
      "execution_count": 103,
      "outputs": [
        {
          "output_type": "stream",
          "name": "stdout",
          "text": [
            "(585963,)\n"
          ]
        }
      ]
    },
    {
      "cell_type": "code",
      "metadata": {
        "id": "a1vEreMpBkiN"
      },
      "source": [
        "# Removing innecesary arrays\n",
        "del(ynecklabels,ynuclearlabels)\n",
        "del(Xneck,Xnuclear)\n",
        "del(posrec_neck,posrec_nuclear)\n",
        "del(Q_neck,Q_nuclear)"
      ],
      "execution_count": 104,
      "outputs": []
    },
    {
      "cell_type": "markdown",
      "metadata": {
        "id": "Oq2CtdbGCsUN"
      },
      "source": [
        "## Training and Test separation"
      ]
    },
    {
      "cell_type": "code",
      "metadata": {
        "colab": {
          "base_uri": "https://localhost:8080/",
          "height": 0
        },
        "id": "wXpPaIE9BzDa",
        "outputId": "56fb3a7a-bee8-4a88-91b5-d76cc6a18c44"
      },
      "source": [
        "print(X.shape)\n",
        "test_size = int(np.floor(0.30*X.shape[0]) )"
      ],
      "execution_count": 105,
      "outputs": [
        {
          "output_type": "stream",
          "name": "stdout",
          "text": [
            "(585963, 255)\n"
          ]
        }
      ]
    },
    {
      "cell_type": "code",
      "metadata": {
        "colab": {
          "base_uri": "https://localhost:8080/",
          "height": 0
        },
        "id": "hKobM9mWC0a-",
        "outputId": "b68b9def-5e29-4e1d-f521-470e4554eec5"
      },
      "source": [
        "trainX, testX = X[:-test_size], X[-test_size:]\n",
        "trainY, testY = tf.keras.utils.to_categorical(Y[:-test_size]), tf.keras.utils.to_categorical(Y[-test_size:])\n",
        "print(trainX.shape,testX.shape)\n",
        "print(trainY.shape,testY.shape)"
      ],
      "execution_count": 106,
      "outputs": [
        {
          "output_type": "stream",
          "name": "stdout",
          "text": [
            "(410175, 255) (175788, 255)\n",
            "(410175, 2) (175788, 2)\n"
          ]
        }
      ]
    },
    {
      "cell_type": "code",
      "metadata": {
        "id": "FLK3NDZAbo63"
      },
      "source": [
        "#trainY = np.reshape(trainY, (len(trainY),1))\n",
        "#testY = np.reshape(testY, (len(testY),1))"
      ],
      "execution_count": 107,
      "outputs": []
    },
    {
      "cell_type": "code",
      "metadata": {
        "id": "zPA5Se4-Do7B"
      },
      "source": [
        "# print(trainX.shape)\n",
        "# print(testX.shape)\n",
        "# trainX = np.reshape(trainX.values, trainX.shape + (1,))\n",
        "# testX = np.reshape(testX.values, testX.shape + (1,))\n",
        "# print(trainX.shape)\n",
        "# print(testX.shape)"
      ],
      "execution_count": 108,
      "outputs": []
    },
    {
      "cell_type": "code",
      "metadata": {
        "id": "sTpSdvmedFiB"
      },
      "source": [
        "posrectest = posrec[-test_size:]"
      ],
      "execution_count": 109,
      "outputs": []
    },
    {
      "cell_type": "code",
      "metadata": {
        "colab": {
          "base_uri": "https://localhost:8080/",
          "height": 0
        },
        "id": "Ek4kkOZeQuh2",
        "outputId": "a4347430-979f-4b4b-ee4f-e5b5551ef7c2"
      },
      "source": [
        "print(trainX.shape)\n",
        "print(testX.shape)\n",
        "print(trainY.shape)\n",
        "print(testY.shape)"
      ],
      "execution_count": 110,
      "outputs": [
        {
          "output_type": "stream",
          "name": "stdout",
          "text": [
            "(410175, 255)\n",
            "(175788, 255)\n",
            "(410175, 2)\n",
            "(175788, 2)\n"
          ]
        }
      ]
    },
    {
      "cell_type": "code",
      "metadata": {
        "id": "hQYOcKpjsryh"
      },
      "source": [
        "testQ = Q[-test_size:]"
      ],
      "execution_count": 111,
      "outputs": []
    },
    {
      "cell_type": "code",
      "metadata": {
        "id": "xqrqx9NbDTEK"
      },
      "source": [
        "# Removing innecesary arrays\n",
        "del(X,Y)"
      ],
      "execution_count": 112,
      "outputs": []
    },
    {
      "cell_type": "code",
      "metadata": {
        "id": "rvARU8D5-nJr"
      },
      "source": [
        "trainX=np.array(trainX)\n",
        "trainY=np.array(trainY)\n",
        "testX=np.array(testX)\n",
        "testY=np.array(testY)"
      ],
      "execution_count": 113,
      "outputs": []
    },
    {
      "cell_type": "code",
      "metadata": {
        "id": "jq6XWNli0xgL"
      },
      "source": [
        "# np.reshape(trainX,(trainX.shape[0],trainX.shape[1]))\n",
        "# np.reshape(testX,(testX.shape[0],testX.shape[1]))"
      ],
      "execution_count": 114,
      "outputs": []
    },
    {
      "cell_type": "code",
      "metadata": {
        "colab": {
          "base_uri": "https://localhost:8080/",
          "height": 0
        },
        "id": "pFxYHdUcM0vY",
        "outputId": "e00ca75f-40c8-4cde-ae43-e0bb478b0c8c"
      },
      "source": [
        "print(trainX.shape,trainY.shape)\n",
        "print(testX.shape,testY.shape)"
      ],
      "execution_count": 115,
      "outputs": [
        {
          "output_type": "stream",
          "name": "stdout",
          "text": [
            "(410175, 255) (410175, 2)\n",
            "(175788, 255) (175788, 2)\n"
          ]
        }
      ]
    },
    {
      "cell_type": "code",
      "metadata": {
        "colab": {
          "base_uri": "https://localhost:8080/",
          "height": 0
        },
        "id": "oaKsPHBVsagX",
        "outputId": "96a72a82-acca-450a-f7ec-3d1986d5cfea"
      },
      "source": [
        "print(trainX.shape[1], trainY.shape[1])"
      ],
      "execution_count": 116,
      "outputs": [
        {
          "output_type": "stream",
          "name": "stdout",
          "text": [
            "255 2\n"
          ]
        }
      ]
    },
    {
      "cell_type": "markdown",
      "metadata": {
        "id": "NjlHW4a8GnzW"
      },
      "source": [
        "# Generar Ruido"
      ]
    },
    {
      "cell_type": "code",
      "metadata": {
        "id": "7NPiLv_uGu8_"
      },
      "source": [
        "np.random.seed(2312)\n",
        "P= np.random.normal(0, 1, testX.shape)"
      ],
      "execution_count": 117,
      "outputs": []
    },
    {
      "cell_type": "code",
      "metadata": {
        "id": "F1cvJ_gRJW6c"
      },
      "source": [
        "for i in range(len(P)):\n",
        "  P[i,:]=P[i,:]/sum(P[i,:])"
      ],
      "execution_count": 118,
      "outputs": []
    },
    {
      "cell_type": "code",
      "metadata": {
        "id": "hUEtXbjGKMER"
      },
      "source": [
        "def ruido(X,r,p):\n",
        "  X1=X+r*p/100\n",
        "  return abs(X1)"
      ],
      "execution_count": 119,
      "outputs": []
    },
    {
      "cell_type": "code",
      "metadata": {
        "id": "venQfk8-afIF"
      },
      "source": [
        "testX1=ruido(testX,P,1)\n",
        "testX5=ruido(testX,P,5)\n",
        "testX10=ruido(testX,P,10)"
      ],
      "execution_count": 120,
      "outputs": []
    },
    {
      "cell_type": "code",
      "metadata": {
        "colab": {
          "base_uri": "https://localhost:8080/",
          "height": 0
        },
        "id": "Dp4M9Y75Wlcp",
        "outputId": "d97b3bc8-7e8e-4094-e991-6d2742221b40"
      },
      "source": [
        "sum(P[100,:])"
      ],
      "execution_count": 121,
      "outputs": [
        {
          "output_type": "execute_result",
          "data": {
            "text/plain": [
              "0.9999999999999999"
            ]
          },
          "metadata": {},
          "execution_count": 121
        }
      ]
    },
    {
      "cell_type": "markdown",
      "metadata": {
        "id": "KcKULJs_IKEa"
      },
      "source": [
        "# Modelo de referencia"
      ]
    },
    {
      "cell_type": "markdown",
      "metadata": {
        "id": "un4KyIa0IP_O"
      },
      "source": [
        "https://keras.io/examples/vision/knowledge_distillation/"
      ]
    },
    {
      "cell_type": "markdown",
      "metadata": {
        "id": "yXQkQ5Pc0eiz"
      },
      "source": [
        "Lo primero que hago es definir la arquitectura general de la red que vamos a destilar, de cara a variar como hiperparámetro la temperatura de la funcion de activacion softmax de la ultima capa."
      ]
    },
    {
      "cell_type": "code",
      "metadata": {
        "id": "dh4j4v2qxgFU"
      },
      "source": [
        "def modeltemp(temp):\n",
        "  model= Sequential()\n",
        "  model.add(Dense(64, activation='relu', input_shape=trainX[1].shape))\n",
        "  model.add(Lambda(lambda x: x / temp))\n",
        "  model.add(Dense(trainY.shape[1], activation='softmax'))\n",
        "  return model  "
      ],
      "execution_count": 122,
      "outputs": []
    },
    {
      "cell_type": "code",
      "metadata": {
        "colab": {
          "base_uri": "https://localhost:8080/",
          "height": 0
        },
        "id": "jD0jT-vWQocC",
        "outputId": "d8f535ba-6c39-4808-9505-290c794bde4c"
      },
      "source": [
        "nepochs=10\n",
        "sizeofbatch=64\n",
        "modelref=Sequential()\n",
        "modelref.add(Dense(64, activation='relu', input_shape=trainX[1].shape))\n",
        "modelref.add(Dense(trainY.shape[1], activation='softmax'))\n",
        "modelref.compile(loss='categorical_crossentropy', optimizer='adam', metrics=['accuracy'])\n",
        "modelref.fit(trainX, trainY, epochs=nepochs, batch_size=sizeofbatch, validation_split=0.15, verbose=1)\n",
        "[lr,ar]=modelref.evaluate(testX,testY)\n",
        "[lr1,ar1]=modelref.evaluate(testX1,testY)\n",
        "[lr5,ar5]=modelref.evaluate(testX5,testY)\n",
        "[lr10,ar10]=modelref.evaluate(testX10,testY)"
      ],
      "execution_count": 123,
      "outputs": [
        {
          "output_type": "stream",
          "name": "stdout",
          "text": [
            "Epoch 1/10\n",
            "5448/5448 [==============================] - 11s 2ms/step - loss: 0.2145 - accuracy: 0.9138 - val_loss: 0.1852 - val_accuracy: 0.9257\n",
            "Epoch 2/10\n",
            "5448/5448 [==============================] - 11s 2ms/step - loss: 0.1725 - accuracy: 0.9327 - val_loss: 0.1687 - val_accuracy: 0.9333\n",
            "Epoch 3/10\n",
            "5448/5448 [==============================] - 11s 2ms/step - loss: 0.1584 - accuracy: 0.9385 - val_loss: 0.1631 - val_accuracy: 0.9356\n",
            "Epoch 4/10\n",
            "5448/5448 [==============================] - 11s 2ms/step - loss: 0.1497 - accuracy: 0.9420 - val_loss: 0.1632 - val_accuracy: 0.9368\n",
            "Epoch 5/10\n",
            "5448/5448 [==============================] - 11s 2ms/step - loss: 0.1440 - accuracy: 0.9445 - val_loss: 0.1582 - val_accuracy: 0.9388\n",
            "Epoch 6/10\n",
            "5448/5448 [==============================] - 11s 2ms/step - loss: 0.1397 - accuracy: 0.9457 - val_loss: 0.1581 - val_accuracy: 0.9385\n",
            "Epoch 7/10\n",
            "5448/5448 [==============================] - 11s 2ms/step - loss: 0.1360 - accuracy: 0.9475 - val_loss: 0.1550 - val_accuracy: 0.9400\n",
            "Epoch 8/10\n",
            "5448/5448 [==============================] - 11s 2ms/step - loss: 0.1327 - accuracy: 0.9489 - val_loss: 0.1595 - val_accuracy: 0.9390\n",
            "Epoch 9/10\n",
            "5448/5448 [==============================] - 11s 2ms/step - loss: 0.1300 - accuracy: 0.9497 - val_loss: 0.1551 - val_accuracy: 0.9408\n",
            "Epoch 10/10\n",
            "5448/5448 [==============================] - 11s 2ms/step - loss: 0.1277 - accuracy: 0.9506 - val_loss: 0.1563 - val_accuracy: 0.9398\n",
            "5494/5494 [==============================] - 7s 1ms/step - loss: 0.1574 - accuracy: 0.9403\n",
            "5494/5494 [==============================] - 7s 1ms/step - loss: 0.1757 - accuracy: 0.9392\n",
            "5494/5494 [==============================] - 7s 1ms/step - loss: 0.2631 - accuracy: 0.9349\n",
            "5494/5494 [==============================] - 7s 1ms/step - loss: 0.3823 - accuracy: 0.9293\n"
          ]
        }
      ]
    },
    {
      "cell_type": "code",
      "metadata": {
        "colab": {
          "base_uri": "https://localhost:8080/",
          "height": 0
        },
        "id": "sXn-PF9FRhr3",
        "outputId": "e08b1163-46c9-4b16-df67-7e394a51a5ab"
      },
      "source": [
        "print('Modelo de referencia:')\n",
        "print('ACURACY')\n",
        "print('Test: {:.4f} '.format(ar))\n",
        "print('Ruido 1%: {:.4f}'.format(ar1))\n",
        "print('Ruido 5%: {:.4f}'.format(ar5))\n",
        "print('Ruido 10%: {:.4f}'.format(ar10))\n",
        "print('LOSS')\n",
        "print('Test: {:.4f} '.format(lr))\n",
        "print('Ruido 1%: {:.4f}'.format(lr1))\n",
        "print('Ruido 5%: {:.4f}'.format(lr5))\n",
        "print('Ruido 10%: {:.4f}'.format(lr10))"
      ],
      "execution_count": 124,
      "outputs": [
        {
          "output_type": "stream",
          "name": "stdout",
          "text": [
            "Modelo de referencia:\n",
            "ACURACY\n",
            "Test: 0.9403 \n",
            "Ruido 1%: 0.9392\n",
            "Ruido 5%: 0.9349\n",
            "Ruido 10%: 0.9293\n",
            "LOSS\n",
            "Test: 0.1574 \n",
            "Ruido 1%: 0.1757\n",
            "Ruido 5%: 0.2631\n",
            "Ruido 10%: 0.3823\n"
          ]
        }
      ]
    },
    {
      "cell_type": "markdown",
      "metadata": {
        "id": "UG2UScbQVI8p"
      },
      "source": [
        "# Destilación"
      ]
    },
    {
      "cell_type": "markdown",
      "metadata": {
        "id": "Mii6fmsO0nRF"
      },
      "source": [
        "Definimos el modelo destilado"
      ]
    },
    {
      "cell_type": "code",
      "metadata": {
        "id": "7omDwhsfycEm"
      },
      "source": [
        "def distilation(temp):\n",
        "  model1=modeltemp(temp)\n",
        "  model1.compile(loss='categorical_crossentropy', optimizer='adam', metrics=['accuracy'])\n",
        "  nepochs=10\n",
        "  sizeofbatch=64\n",
        "  history1=model1.fit(trainX, trainY, epochs=nepochs, batch_size=sizeofbatch, validation_split=0.15, verbose=1)\n",
        "  trainY1=model1.predict(trainX)\n",
        "  model2=modeltemp(temp)\n",
        "  model2.compile(loss='categorical_crossentropy', optimizer='adam', metrics=['accuracy'])\n",
        "  history2=model2.fit(trainX, trainY1, epochs=nepochs, batch_size=sizeofbatch, validation_split=0.15, verbose=1)\n",
        "  Temp2=1\n",
        "  model12=modeltemp(Temp2)\n",
        "  model12.compile(loss='categorical_crossentropy', optimizer='adam', metrics=['accuracy'])\n",
        "  model12.set_weights(model1.get_weights())\n",
        "  model22=modeltemp(Temp2)\n",
        "  model22.compile(loss='categorical_crossentropy', optimizer='adam', metrics=['accuracy'])\n",
        "  model22.set_weights(model2.get_weights())\n",
        "  return model12,model22"
      ],
      "execution_count": 125,
      "outputs": []
    },
    {
      "cell_type": "code",
      "metadata": {
        "colab": {
          "base_uri": "https://localhost:8080/",
          "height": 0
        },
        "id": "HswsL8fLBA-d",
        "outputId": "e2d86439-c39f-4529-ce30-51b147d767e3"
      },
      "source": [
        "model,modeld=distilation(10)"
      ],
      "execution_count": 126,
      "outputs": [
        {
          "output_type": "stream",
          "name": "stdout",
          "text": [
            "Epoch 1/10\n",
            "5448/5448 [==============================] - 11s 2ms/step - loss: 0.2507 - accuracy: 0.8980 - val_loss: 0.2034 - val_accuracy: 0.9194\n",
            "Epoch 2/10\n",
            "5448/5448 [==============================] - 11s 2ms/step - loss: 0.1969 - accuracy: 0.9226 - val_loss: 0.1909 - val_accuracy: 0.9251\n",
            "Epoch 3/10\n",
            "5448/5448 [==============================] - 11s 2ms/step - loss: 0.1839 - accuracy: 0.9282 - val_loss: 0.1783 - val_accuracy: 0.9299\n",
            "Epoch 4/10\n",
            "5448/5448 [==============================] - 11s 2ms/step - loss: 0.1728 - accuracy: 0.9329 - val_loss: 0.1737 - val_accuracy: 0.9313\n",
            "Epoch 5/10\n",
            "5448/5448 [==============================] - 11s 2ms/step - loss: 0.1655 - accuracy: 0.9356 - val_loss: 0.1662 - val_accuracy: 0.9345\n",
            "Epoch 6/10\n",
            "5448/5448 [==============================] - 11s 2ms/step - loss: 0.1603 - accuracy: 0.9374 - val_loss: 0.1628 - val_accuracy: 0.9364\n",
            "Epoch 7/10\n",
            "5448/5448 [==============================] - 11s 2ms/step - loss: 0.1566 - accuracy: 0.9389 - val_loss: 0.1607 - val_accuracy: 0.9372\n",
            "Epoch 8/10\n",
            "5448/5448 [==============================] - 11s 2ms/step - loss: 0.1530 - accuracy: 0.9408 - val_loss: 0.1607 - val_accuracy: 0.9371\n",
            "Epoch 9/10\n",
            "5448/5448 [==============================] - 11s 2ms/step - loss: 0.1504 - accuracy: 0.9414 - val_loss: 0.1608 - val_accuracy: 0.9362\n",
            "Epoch 10/10\n",
            "5448/5448 [==============================] - 11s 2ms/step - loss: 0.1477 - accuracy: 0.9427 - val_loss: 0.1592 - val_accuracy: 0.9379\n",
            "Epoch 1/10\n",
            "5448/5448 [==============================] - 12s 2ms/step - loss: 0.2488 - accuracy: 0.9257 - val_loss: 0.1895 - val_accuracy: 0.9588\n",
            "Epoch 2/10\n",
            "5448/5448 [==============================] - 11s 2ms/step - loss: 0.1778 - accuracy: 0.9676 - val_loss: 0.1683 - val_accuracy: 0.9754\n",
            "Epoch 3/10\n",
            "5448/5448 [==============================] - 11s 2ms/step - loss: 0.1652 - accuracy: 0.9779 - val_loss: 0.1619 - val_accuracy: 0.9815\n",
            "Epoch 4/10\n",
            "5448/5448 [==============================] - 11s 2ms/step - loss: 0.1604 - accuracy: 0.9834 - val_loss: 0.1589 - val_accuracy: 0.9854\n",
            "Epoch 5/10\n",
            "5448/5448 [==============================] - 11s 2ms/step - loss: 0.1582 - accuracy: 0.9864 - val_loss: 0.1576 - val_accuracy: 0.9868\n",
            "Epoch 6/10\n",
            "5448/5448 [==============================] - 11s 2ms/step - loss: 0.1569 - accuracy: 0.9882 - val_loss: 0.1563 - val_accuracy: 0.9890\n",
            "Epoch 7/10\n",
            "5448/5448 [==============================] - 11s 2ms/step - loss: 0.1561 - accuracy: 0.9898 - val_loss: 0.1557 - val_accuracy: 0.9904\n",
            "Epoch 8/10\n",
            "5448/5448 [==============================] - 11s 2ms/step - loss: 0.1554 - accuracy: 0.9913 - val_loss: 0.1551 - val_accuracy: 0.9916\n",
            "Epoch 9/10\n",
            "5448/5448 [==============================] - 11s 2ms/step - loss: 0.1549 - accuracy: 0.9924 - val_loss: 0.1549 - val_accuracy: 0.9923\n",
            "Epoch 10/10\n",
            "5448/5448 [==============================] - 11s 2ms/step - loss: 0.1546 - accuracy: 0.9932 - val_loss: 0.1547 - val_accuracy: 0.9931\n"
          ]
        }
      ]
    },
    {
      "cell_type": "code",
      "metadata": {
        "id": "f7BtcDsV4SKn",
        "colab": {
          "base_uri": "https://localhost:8080/",
          "height": 0
        },
        "outputId": "e5e9e332-cd38-4561-b940-84466a6a74a3"
      },
      "source": [
        "[l1,a1]=model.evaluate(testX,testY)\n",
        "[l11,a11]=model.evaluate(testX1,testY)\n",
        "[l15,a15]=model.evaluate(testX5,testY)\n",
        "[l110,a110]=model.evaluate(testX10,testY)\n",
        "[ld1,ad1]=modeld.evaluate(testX,testY)\n",
        "[ld11,ad11]=modeld.evaluate(testX1,testY)\n",
        "[ld15,ad15]=modeld.evaluate(testX5,testY)\n",
        "[ld110,ad110]=modeld.evaluate(testX10,testY)"
      ],
      "execution_count": 127,
      "outputs": [
        {
          "output_type": "stream",
          "name": "stdout",
          "text": [
            "5494/5494 [==============================] - 7s 1ms/step - loss: 1.0799 - accuracy: 0.9260\n",
            "5494/5494 [==============================] - 7s 1ms/step - loss: 1.2311 - accuracy: 0.9254\n",
            "5494/5494 [==============================] - 7s 1ms/step - loss: 2.0201 - accuracy: 0.9221\n",
            "5494/5494 [==============================] - 7s 1ms/step - loss: 3.1242 - accuracy: 0.9177\n",
            "5494/5494 [==============================] - 7s 1ms/step - loss: 0.9912 - accuracy: 0.9311\n",
            "5494/5494 [==============================] - 7s 1ms/step - loss: 1.1604 - accuracy: 0.9304\n",
            "5494/5494 [==============================] - 7s 1ms/step - loss: 2.0271 - accuracy: 0.9268\n",
            "5494/5494 [==============================] - 7s 1ms/step - loss: 3.2256 - accuracy: 0.9219\n"
          ]
        }
      ]
    },
    {
      "cell_type": "code",
      "metadata": {
        "id": "QaCkkvPoHGdZ",
        "colab": {
          "base_uri": "https://localhost:8080/",
          "height": 0
        },
        "outputId": "24e2eb82-5245-4676-d9b6-cda63cf08b5d"
      },
      "source": [
        "print('ACURACY')\n",
        "print('Modelo sin destilar:')\n",
        "print('Test: {:.4f} '.format(a1))\n",
        "print('Ruido 1%: {:.4f}'.format(a11))\n",
        "print('Ruido 5%: {:.4f}'.format(a15))\n",
        "print('Ruido 10%: {:.4f}'.format(a110))\n",
        "print(' Modelo destilado a temperatura 10: ')\n",
        "print('Test: {:.4f} '.format(ad1))\n",
        "print('Ruido 1%: {:.4f}'.format(ad11))\n",
        "print('Ruido 5%: {:.4f}'.format(ad15))\n",
        "print('Ruido 10%: {:.4f}'.format(ad110))"
      ],
      "execution_count": 128,
      "outputs": [
        {
          "output_type": "stream",
          "name": "stdout",
          "text": [
            "ACURACY\n",
            "Modelo sin destilar:\n",
            "Test: 0.9260 \n",
            "Ruido 1%: 0.9254\n",
            "Ruido 5%: 0.9221\n",
            "Ruido 10%: 0.9177\n",
            " Modelo destilado a temperatura 10: \n",
            "Test: 0.9311 \n",
            "Ruido 1%: 0.9304\n",
            "Ruido 5%: 0.9268\n",
            "Ruido 10%: 0.9219\n"
          ]
        }
      ]
    },
    {
      "cell_type": "code",
      "metadata": {
        "colab": {
          "base_uri": "https://localhost:8080/",
          "height": 0
        },
        "id": "h_9zjvMmOr1-",
        "outputId": "a858515b-1c1e-4a62-baf9-63f423fe5ae2"
      },
      "source": [
        "print('LOSS')\n",
        "print('Modelo sin destilar:')\n",
        "print('Test: {:.4f} '.format(l1))\n",
        "print('Ruido 1%: {:.4f}'.format(l11))\n",
        "print('Ruido 5%: {:.4f}'.format(l15))\n",
        "print('Ruido 10%: {:.4f}'.format(l110))\n",
        "print(' Modelo destilado a temperatura 100: ')\n",
        "print('Test: {:.4f} '.format(ld1))\n",
        "print('Ruido 1%: {:.4f}'.format(ld11))\n",
        "print('Ruido 5%: {:.4f}'.format(ld15))\n",
        "print('Ruido 10%: {:.4f}'.format(ld110))"
      ],
      "execution_count": 129,
      "outputs": [
        {
          "output_type": "stream",
          "name": "stdout",
          "text": [
            "LOSS\n",
            "Modelo sin destilar:\n",
            "Test: 1.0799 \n",
            "Ruido 1%: 1.2311\n",
            "Ruido 5%: 2.0201\n",
            "Ruido 10%: 3.1242\n",
            " Modelo destilado a temperatura 100: \n",
            "Test: 0.9912 \n",
            "Ruido 1%: 1.1604\n",
            "Ruido 5%: 2.0271\n",
            "Ruido 10%: 3.2256\n"
          ]
        }
      ]
    },
    {
      "cell_type": "markdown",
      "metadata": {
        "id": "feQQ-LhiFZBB"
      },
      "source": [
        "# Visualization"
      ]
    },
    {
      "cell_type": "markdown",
      "metadata": {
        "id": "HQn4YDgTVamT"
      },
      "source": [
        "## Modelo de referencia"
      ]
    },
    {
      "cell_type": "code",
      "metadata": {
        "id": "gLn6kQRhQKFO"
      },
      "source": [
        "def predictions(model):\n",
        "  p = model.predict(testX)\n",
        "  p1 = model.predict(testX1)\n",
        "  p5 = model.predict(testX5)\n",
        "  p10 = model.predict(testX10)\n",
        "  return p[:,1],p1[:,1],p5[:,1],p10[:,1]"
      ],
      "execution_count": 130,
      "outputs": []
    },
    {
      "cell_type": "code",
      "metadata": {
        "id": "NvrOPMLx76SX"
      },
      "source": [
        "testYv=np.argmax(testY ,axis=1)\n",
        "c0=np.where(testYv==0)\n",
        "c1=np.where(testYv==1)\n",
        "r,r1,r5,r10=predictions(modelref)"
      ],
      "execution_count": 131,
      "outputs": []
    },
    {
      "cell_type": "code",
      "metadata": {
        "colab": {
          "base_uri": "https://localhost:8080/",
          "height": 0
        },
        "id": "wPmtrRE5UcTq",
        "outputId": "962929ae-f59b-4c7c-e702-0581038f92be"
      },
      "source": [
        "plt.figure(1,figsize=(8,8)) # figura numero 4\n",
        "plt.style.use('seaborn-deep') \n",
        "#plt.hist(pred,100,histtype='step')\n",
        "# seleccionamos los datos que cumplen que testY==0 es argo\n",
        "print(\"test 0s number:  \",len(c0[0]))\n",
        "plt.hist(r[c0],100,histtype='step',color='darkorange', label= \"Neck events ( %d ) \" % (len(c0[0]) ))\n",
        "# selecionamos los de cuello testY==1\n",
        "print(\"test 1s number:  \", len(c1[0]))\n",
        "plt.hist(r[c1],100,histtype='step',color='blue', label= \"Argon events ( %d ) \" % (len(c1[0]) ))\n",
        "plt.ylabel('Numbers of events')\n",
        "plt.xlabel('Score')\n",
        "plt.yscale(\"log\")\n",
        "title=\" Probability of being Argon event (Test set)\"\n",
        "#plt.title(title)\n",
        "plt.xlim(-0.1,1.1)\n",
        "plt.legend( loc='upper center')"
      ],
      "execution_count": 132,
      "outputs": [
        {
          "output_type": "stream",
          "name": "stdout",
          "text": [
            "test 0s number:   87715\n",
            "test 1s number:   88073\n"
          ]
        },
        {
          "output_type": "execute_result",
          "data": {
            "text/plain": [
              "<matplotlib.legend.Legend at 0x7f2cfed56b10>"
            ]
          },
          "metadata": {},
          "execution_count": 132
        },
        {
          "output_type": "display_data",
          "data": {
            "image/png": "[encoded data removed]",
            "text/plain": [
              "<Figure size 576x576 with 1 Axes>"
            ]
          },
          "metadata": {
            "needs_background": "light"
          }
        }
      ]
    },
    {
      "cell_type": "code",
      "metadata": {
        "id": "1-5yOpufHsRI"
      },
      "source": [
        "# Para pintar la curva ROC\n",
        "def myroc(numal,true, pred):\n",
        "\t#calculamos tpr y fpr con sus errores para un numero numal de parametros de corte entre  0 y 1 equispaciados  \n",
        "\talphas=np.arange(numal)\n",
        "\tTPR=np.empty(numal)\n",
        "\tFPR=np.empty(numal)\n",
        "\terTPR=np.empty(numal)\n",
        "\terFPR=np.empty(numal)\n",
        "\t#print(true.shape)\n",
        "\tfor alpha in alphas: \n",
        "\t\tpred_aprox=np.zeros(true.shape)\t\n",
        "\t\tinter=np.where(pred>alpha/numal)\n",
        "\t\tpred_aprox[inter]=1\n",
        "\t\ttn, fp, fn, tp = confusion_matrix(true,pred_aprox).ravel()\n",
        "\t\t#TPR[alpha]=tp/(tp+fn)\n",
        "\t\t#erTPR[alpha]=sqrt(tp)/(tp+fn)\n",
        "\t\t#FPR[alpha]= fp/(fp+tn)\n",
        "\t\t#erFPR[alpha]=sqrt(fp)/(fp+tn)\n",
        "\t\n",
        "\talphas=alphas/numal\t\n",
        "\treturn alphas , tp , fp , fn , tn "
      ],
      "execution_count": 133,
      "outputs": []
    },
    {
      "cell_type": "code",
      "metadata": {
        "id": "u9yx3HybV77p"
      },
      "source": [
        "def curvaroc(test,pred):\n",
        "  # R= np.empty([testpos.shape[0]])\n",
        "  numberneg=len(c0[0])\n",
        "  numberpos=len(c1[0])\n",
        "  print(\"Neck events  (test set):\" , numberneg)\n",
        "  print(\"Argon events (test set):\" , numberpos)\n",
        "  fpr, tpr, thresholds = roc_curve(test,pred)\n",
        "  #print(roc_curve(testY,pred))\n",
        "\n",
        "  precision, recall, alphas = precision_recall_curve(test,pred)\n",
        "  pre_auc = auc(recall, precision)\n",
        "  roc_auc = auc(fpr, tpr)\t\n",
        "  print(\"roc AUC :   \",roc_auc)\n",
        "  print(\"Precision-recall auc:\", pre_auc)\n",
        "\n",
        "  ## 99.0%\n",
        "  f= fpr[fpr>0.99]\n",
        "  #print(f)\n",
        "  btpr=tpr[fpr>0.01][0]\n",
        "  bfpr=fpr[fpr>0.01][0]\n",
        "  balf=thresholds[fpr>0.01][0]\n",
        "\n",
        "  print(\"tpr\" , btpr)\n",
        "  print(\"fpr\" , bfpr)\n",
        "  print(\"1-fpr\" , 1-bfpr)\n",
        "  print(\"alpha\" , balf)\n",
        "\n",
        "  ## 99.9%\n",
        "  btpr2=tpr[fpr>0.001][0]\n",
        "  bfpr2=fpr[fpr>0.001][0]\n",
        "  balf2=thresholds[fpr>0.001][0]\n",
        "\n",
        "  print(\"tpr2\" , btpr2)\n",
        "  print(\"fpr2\" , bfpr2)\n",
        "  print(\"1-fpr2\" , 1-bfpr2)\n",
        "  print(\"alpha2\" , balf2)\n",
        "\n",
        "  # ## 90.0%\n",
        "  # btpr3=tpr[fpr>0.1][0]\n",
        "  # bfpr3=fpr[fpr>0.1][0]\n",
        "  # balf3=thresholds[fpr>0.1][0]\n",
        "\n",
        "  # print(\"tpr3\" , btpr3)\n",
        "  # print(\"fpr3\" , bfpr3)\n",
        "  # print(\"1-fpr3\" , 1-bfpr3)\n",
        "  # print(\"alpha3\" , balf3)\n",
        "\n",
        "  # ## 50.0%\n",
        "  # btpr4=tpr[fpr>0.5][0]\n",
        "  # bfpr4=fpr[fpr>0.5][0]\n",
        "  # balf4=thresholds[fpr>0.5][0]\n",
        "\n",
        "  # print(\"tpr4\" , btpr4)\n",
        "  # print(\"fpr4\" , bfpr4)\n",
        "  # print(\"1-fpr4\" , 1-bfpr4)\n",
        "  # print(\"alpha4\" , balf4)\n",
        "\n",
        "  p=precision[precision>0.99]\n",
        "  bpre=p[0]\n",
        "  brec=recall[precision>0.99][0]\n",
        "  print('bpre',bpre)\n",
        "  print('brec',brec)\n",
        "\n",
        "  plt.figure(1,figsize=(8,8)) # figura \n",
        "  plt.style.use('seaborn-deep') \n",
        "  lw = 2\n",
        "  plt.plot(1-fpr, tpr, color='blue',lw=2, label=' (area = %0.4f)' % (roc_auc))\n",
        "  #plt.plot([0, 1], [0, 1], color='navy', lw=lw, linestyle='--')\n",
        "  #plt.plot([1-bfpr, 0], [1-bfpr, btpr], color='orange', lw=1, linestyle='--')\n",
        "  #plt.plot([0, btpr], [1-bfpr, btpr], color='orange', lw=1, linestyle='--')\n",
        "\n",
        "  # plt.plot([1-bfpr4, 1-bfpr4], [0, btVisualizationpr4], color='orange', lw=1, linestyle='--')\n",
        "  # plt.plot([0, 1-bfpr4], [btpr4, btpr4], color='orange', lw=1, linestyle='--', label= \"a= %0.3f (%0.3f , %0.3f)\" % (balf4,1-bfpr4, btpr4))\n",
        "  # plt.plot([1-bfpr3, 1-bfpr3], [0, btpr3], color='orange', lw=1, linestyle='--')\n",
        "  # plt.plot([0, 1-bfpr3], [btpr3, btpr3], color='orange', lw=1, linestyle='--', label= \"a= %0.3f (%0.3f , %0.3f)\" % (balf3,1-bfpr3, btpr3))\n",
        "  plt.plot([1-bfpr, 1-bfpr], [0, btpr], color='orange', lw=1, linestyle='--')\n",
        "  plt.plot([0, 1-bfpr], [btpr, btpr], color='orange', lw=1, linestyle='--', label= \"a= %0.3f (%0.3f , %0.3f)\" % (balf,1-bfpr, btpr))\n",
        "  plt.plot([1-bfpr2, 1-bfpr2], [0, btpr2], color='orange', lw=1, linestyle='--')\n",
        "  plt.plot([0, 1-bfpr2], [btpr2, btpr2], color='orange', lw=1, linestyle='--', label= \"a= %0.3f (%0.3f , %0.3f)\" % (balf2,1-bfpr2, btpr2))\n",
        "\n",
        "  plt.xlim([0.0, 1.0])\n",
        "  plt.ylim([0.0, 1.0])\n",
        "  plt.xlabel('Background Rejection Rate (1-FPr)')\n",
        "  plt.ylabel('Acceptance (TPr)')\n",
        "  plt.title('ROC curve')\n",
        "  plt.legend(loc=\"lower left\")\n",
        "\n",
        "  # from google.colab import files\n",
        "  # plt.savefig('ROC_curve_InceptionCNN1d_'+str(OurModel)+'_neckevents_1block_f1_64_f2_in_96_f2_out_128_f3_in_16_f3_out_32_f4_out_32'+'_Epochs_'+str(nepochs)+'_Batch_'+str(sizeofbatch)+'.eps')\n",
        "  # files.download('ROC_curve_InceptionCNN1d_'+str(OurModel)+'_neckevents_1block_f1_64_f2_in_96_f2_out_128_f3_in_16_f3_out_32_f4_out_32'+'_Epochs_'+str(nepochs)+'_Batch_'+str(sizeofbatch)+'.eps') # uncomment for downloading"
      ],
      "execution_count": 134,
      "outputs": []
    },
    {
      "cell_type": "code",
      "metadata": {
        "colab": {
          "base_uri": "https://localhost:8080/",
          "height": 0
        },
        "id": "rHJ4idm4SIF9",
        "outputId": "8b16f553-8e02-46ca-ea65-da7fb098f87c"
      },
      "source": [
        "curvaroc(testYv,r)"
      ],
      "execution_count": 135,
      "outputs": [
        {
          "output_type": "stream",
          "name": "stdout",
          "text": [
            "Neck events  (test set): 87715\n",
            "Argon events (test set): 88073\n",
            "roc AUC :    0.9851051230355676\n",
            "Precision-recall auc: 0.9860690856755363\n",
            "tpr 0.8134274976439999\n",
            "fpr 0.010009690474833266\n",
            "1-fpr 0.9899903095251668\n",
            "alpha 0.94215393\n",
            "tpr2 0.5253369364050277\n",
            "fpr2 0.0010032491592088012\n",
            "1-fpr2 0.9989967508407912\n",
            "alpha2 0.9986066\n",
            "bpre 0.9900082435543932\n",
            "brec 0.7908780216411386\n"
          ]
        },
        {
          "output_type": "display_data",
          "data": {
            "image/png": "[encoded data removed]",
            "text/plain": [
              "<Figure size 576x576 with 1 Axes>"
            ]
          },
          "metadata": {
            "needs_background": "light"
          }
        }
      ]
    },
    {
      "cell_type": "code",
      "metadata": {
        "colab": {
          "base_uri": "https://localhost:8080/",
          "height": 0
        },
        "id": "rkWsw4ecS5t6",
        "outputId": "9c2b018e-86cd-4b37-97f6-b5c4d9563067"
      },
      "source": [
        "curvaroc(testYv,r1)"
      ],
      "execution_count": 136,
      "outputs": [
        {
          "output_type": "stream",
          "name": "stdout",
          "text": [
            "Neck events  (test set): 87715\n",
            "Argon events (test set): 88073\n",
            "roc AUC :    0.9841994945817928\n",
            "Precision-recall auc: 0.9843380903178351\n",
            "tpr 0.8055022538121785\n",
            "fpr 0.010009690474833266\n",
            "1-fpr 0.9899903095251668\n",
            "alpha 0.9454771\n",
            "tpr2 0.4178579133219034\n",
            "fpr2 0.0010032491592088012\n",
            "1-fpr2 0.9989967508407912\n",
            "alpha2 0.9995499\n",
            "bpre 0.9900034620045006\n",
            "brec 0.7792513028964609\n"
          ]
        },
        {
          "output_type": "display_data",
          "data": {
            "image/png": "[encoded data removed]",
            "text/plain": [
              "<Figure size 576x576 with 1 Axes>"
            ]
          },
          "metadata": {
            "needs_background": "light"
          }
        }
      ]
    },
    {
      "cell_type": "code",
      "metadata": {
        "colab": {
          "base_uri": "https://localhost:8080/",
          "height": 0
        },
        "id": "rEc12GW7S6Oh",
        "outputId": "617d24ce-851c-401d-c32d-08064c527ce4"
      },
      "source": [
        "curvaroc(testYv,r5)"
      ],
      "execution_count": 137,
      "outputs": [
        {
          "output_type": "stream",
          "name": "stdout",
          "text": [
            "Neck events  (test set): 87715\n",
            "Argon events (test set): 88073\n",
            "roc AUC :    0.9809790170856405\n",
            "Precision-recall auc: 0.9781798104711212\n",
            "tpr 0.7714168928048324\n",
            "fpr 0.010009690474833266\n",
            "1-fpr 0.9899903095251668\n",
            "alpha 0.9601772\n",
            "tpr2 0.05881484677483451\n",
            "fpr2 0.0010032491592088012\n",
            "1-fpr2 0.9989967508407912\n",
            "alpha2 0.9999981\n",
            "bpre 0.9900035591043437\n",
            "brec 0.7264087745393026\n"
          ]
        },
        {
          "output_type": "display_data",
          "data": {
            "image/png": "[encoded data removed]",
            "text/plain": [
              "<Figure size 576x576 with 1 Axes>"
            ]
          },
          "metadata": {
            "needs_background": "light"
          }
        }
      ]
    },
    {
      "cell_type": "code",
      "metadata": {
        "colab": {
          "base_uri": "https://localhost:8080/",
          "height": 0
        },
        "id": "i6AVa7WhS6e-",
        "outputId": "bfacadfa-9780-4498-d3c9-1431a6d95824"
      },
      "source": [
        "curvaroc(testYv,r10)"
      ],
      "execution_count": 138,
      "outputs": [
        {
          "output_type": "stream",
          "name": "stdout",
          "text": [
            "Neck events  (test set): 87715\n",
            "Argon events (test set): 88073\n",
            "roc AUC :    0.9767382101092794\n",
            "Precision-recall auc: 0.9704566022479774\n",
            "tpr 0.7180293620065173\n",
            "fpr 0.010009690474833266\n",
            "1-fpr 0.9899903095251668\n",
            "alpha 0.97713053\n",
            "tpr2 0.008572434230694991\n",
            "fpr2 0.0015960782078321839\n",
            "1-fpr2 0.9984039217921679\n",
            "alpha2 1.0\n",
            "bpre 0.9900163231218919\n",
            "brec 0.5922359860570209\n"
          ]
        },
        {
          "output_type": "display_data",
          "data": {
            "image/png": "[encoded data removed]",
            "text/plain": [
              "<Figure size 576x576 with 1 Axes>"
            ]
          },
          "metadata": {
            "needs_background": "light"
          }
        }
      ]
    },
    {
      "cell_type": "markdown",
      "metadata": {
        "id": "p70RcUSkVwg_"
      },
      "source": [
        "## Modelo destilado"
      ]
    },
    {
      "cell_type": "code",
      "metadata": {
        "id": "nlWmvTO6z-0J"
      },
      "source": [
        "p,p1,p5,p10=predictions(model)\n",
        "pd,pd1,pd5,pd10=predictions(modeld)"
      ],
      "execution_count": 139,
      "outputs": []
    },
    {
      "cell_type": "code",
      "metadata": {
        "id": "erlK7Zk0HmGQ",
        "colab": {
          "base_uri": "https://localhost:8080/",
          "height": 555
        },
        "outputId": "554ad789-d349-47dd-be55-dc79b0225f94"
      },
      "source": [
        "plt.figure(1,figsize=(8,8)) # figura numero 4\n",
        "plt.style.use('seaborn-deep') \n",
        "#plt.hist(pred,100,histtype='step')\n",
        "# seleccionamos los datos que cumplen que testY==0 es argo\n",
        "print(\"test 0s number:  \",len(c0[0]))\n",
        "plt.hist(pd[c0],100,histtype='step',color='darkorange', label= \"Neck events ( %d ) \" % (len(c0[0]) ))\n",
        "# selecionamos los de cuello testY==1\n",
        "print(\"test 1s number:  \", len(c1[0]))\n",
        "plt.hist(pd[c1],100,histtype='step',color='blue', label= \"Argon events ( %d ) \" % (len(c1[0]) ))\n",
        "plt.ylabel('Numbers of events')\n",
        "plt.xlabel('Score')\n",
        "plt.yscale(\"log\")\n",
        "title=\" Probability of being Argon event (Test set)\"\n",
        "#plt.title(title)\n",
        "plt.xlim(-0.1,1.1)\n",
        "plt.legend( loc='upper center')\n",
        "\n",
        "# from google.colab import files\n",
        "# plt.savefig('scores_InceptionCNN1d_'+str(OurModel)+'_neckevents_1block_f1_64_f2_in_96_f2_out_128_f3_in_16_f3_out_32_f4_out_32'+'_Epochs_'+str(nepochs)+'_Batch_'+str(sizeofbatch)+'.eps')\n",
        "# files.download('scores_InceptionCNN1d_'+str(OurModel)+'_neckevents_1block_f1_64_f2_in_96_f2_out_128_f3_in_16_f3_out_32_f4_out_32'+'_Epochs_'+str(nepochs)+'_Batch_'+str(sizeofbatch)+'.eps')  # uncomment for downloading"
      ],
      "execution_count": 140,
      "outputs": [
        {
          "output_type": "stream",
          "name": "stdout",
          "text": [
            "test 0s number:   87715\n",
            "test 1s number:   88073\n"
          ]
        },
        {
          "output_type": "execute_result",
          "data": {
            "text/plain": [
              "<matplotlib.legend.Legend at 0x7f2cf564f810>"
            ]
          },
          "metadata": {},
          "execution_count": 140
        },
        {
          "output_type": "display_data",
          "data": {
            "image/png": "[encoded data removed]",
            "text/plain": [
              "<Figure size 576x576 with 1 Axes>"
            ]
          },
          "metadata": {
            "needs_background": "light"
          }
        }
      ]
    },
    {
      "cell_type": "code",
      "metadata": {
        "id": "QaEAVQVjH1DC",
        "colab": {
          "base_uri": "https://localhost:8080/",
          "height": 758
        },
        "outputId": "1ffd134f-7deb-4d04-e5e3-730786af2df6"
      },
      "source": [
        "curvaroc(testYv,pd)"
      ],
      "execution_count": 141,
      "outputs": [
        {
          "output_type": "stream",
          "name": "stdout",
          "text": [
            "Neck events  (test set): 87715\n",
            "Argon events (test set): 88073\n",
            "roc AUC :    0.973184641953352\n",
            "Precision-recall auc: 0.9740226408281609\n",
            "tpr 0.9016384135887275\n",
            "fpr 0.03297041555036197\n",
            "1-fpr 0.967029584449638\n",
            "alpha 1.0\n",
            "tpr2 0.9016384135887275\n",
            "fpr2 0.03297041555036197\n",
            "1-fpr2 0.967029584449638\n",
            "alpha2 1.0\n",
            "bpre 1.0\n",
            "brec 0.0\n"
          ]
        },
        {
          "output_type": "display_data",
          "data": {
            "image/png": "[encoded data removed]",
            "text/plain": [
              "<Figure size 576x576 with 1 Axes>"
            ]
          },
          "metadata": {
            "needs_background": "light"
          }
        }
      ]
    },
    {
      "cell_type": "code",
      "metadata": {
        "id": "H42jFhCBH0Eq",
        "colab": {
          "base_uri": "https://localhost:8080/",
          "height": 758
        },
        "outputId": "58de73e1-9a2e-484b-fbf6-0c702b936dff"
      },
      "source": [
        "curvaroc(testYv,pd1)"
      ],
      "execution_count": 142,
      "outputs": [
        {
          "output_type": "stream",
          "name": "stdout",
          "text": [
            "Neck events  (test set): 87715\n",
            "Argon events (test set): 88073\n",
            "roc AUC :    0.9726132435291597\n",
            "Precision-recall auc: 0.9735214442840493\n",
            "tpr 0.8984592326819797\n",
            "fpr 0.03314142392977256\n",
            "1-fpr 0.9668585760702274\n",
            "alpha 1.0\n",
            "tpr2 0.8984592326819797\n",
            "fpr2 0.03314142392977256\n",
            "1-fpr2 0.9668585760702274\n",
            "alpha2 1.0\n",
            "bpre 1.0\n",
            "brec 0.0\n"
          ]
        },
        {
          "output_type": "display_data",
          "data": {
            "image/png": "[encoded data removed]",
            "text/plain": [
              "<Figure size 576x576 with 1 Axes>"
            ]
          },
          "metadata": {
            "needs_background": "light"
          }
        }
      ]
    },
    {
      "cell_type": "code",
      "metadata": {
        "colab": {
          "base_uri": "https://localhost:8080/",
          "height": 758
        },
        "id": "y-aGJRh-Sx_g",
        "outputId": "b1365e18-7376-48f9-9fef-e089b756f270"
      },
      "source": [
        "curvaroc(testYv,pd5)"
      ],
      "execution_count": 143,
      "outputs": [
        {
          "output_type": "stream",
          "name": "stdout",
          "text": [
            "Neck events  (test set): 87715\n",
            "Argon events (test set): 88073\n",
            "roc AUC :    0.9696383907081314\n",
            "Precision-recall auc: 0.970815281437707\n",
            "tpr 0.8894894008379413\n",
            "fpr 0.0355925440346577\n",
            "1-fpr 0.9644074559653423\n",
            "alpha 1.0\n",
            "tpr2 0.8894894008379413\n",
            "fpr2 0.0355925440346577\n",
            "1-fpr2 0.9644074559653423\n",
            "alpha2 1.0\n",
            "bpre 1.0\n",
            "brec 0.0\n"
          ]
        },
        {
          "output_type": "display_data",
          "data": {
            "image/png": "[encoded data removed]",
            "text/plain": [
              "<Figure size 576x576 with 1 Axes>"
            ]
          },
          "metadata": {
            "needs_background": "light"
          }
        }
      ]
    },
    {
      "cell_type": "code",
      "metadata": {
        "colab": {
          "base_uri": "https://localhost:8080/",
          "height": 758
        },
        "id": "pawvSYMYSx2J",
        "outputId": "7452c18f-9448-499b-cfaf-70096fb371d9"
      },
      "source": [
        "curvaroc(testYv,pd10)"
      ],
      "execution_count": 144,
      "outputs": [
        {
          "output_type": "stream",
          "name": "stdout",
          "text": [
            "Neck events  (test set): 87715\n",
            "Argon events (test set): 88073\n",
            "roc AUC :    0.9655825414304885\n",
            "Precision-recall auc: 0.9670636758862762\n",
            "tpr 0.8798269617249327\n",
            "fpr 0.03958273955423816\n",
            "1-fpr 0.9604172604457618\n",
            "alpha 1.0\n",
            "tpr2 0.8798269617249327\n",
            "fpr2 0.03958273955423816\n",
            "1-fpr2 0.9604172604457618\n",
            "alpha2 1.0\n",
            "bpre 1.0\n",
            "brec 0.0\n"
          ]
        },
        {
          "output_type": "display_data",
          "data": {
            "image/png": "[encoded data removed]",
            "text/plain": [
              "<Figure size 576x576 with 1 Axes>"
            ]
          },
          "metadata": {
            "needs_background": "light"
          }
        }
      ]
    },
    {
      "cell_type": "code",
      "metadata": {
        "id": "UvwAQneTS0dq"
      },
      "source": [
        ""
      ],
      "execution_count": 144,
      "outputs": []
    }
  ]
}