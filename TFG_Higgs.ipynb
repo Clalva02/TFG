{
  "nbformat": 4,
  "nbformat_minor": 0,
  "metadata": {
    "colab": {
      "name": "TFG_Higgs.ipynb",
      "provenance": [],
      "collapsed_sections": [],
      "include_colab_link": true
    },
    "kernelspec": {
      "display_name": "Python 3",
      "name": "python3"
    },
    "language_info": {
      "name": "python"
    }
  },
  "cells": [
    {
      "cell_type": "markdown",
      "metadata": {
        "id": "view-in-github",
        "colab_type": "text"
      },
      "source": [
        "<a href=\"https://colab.research.google.com/github/Clalva02/TFG/blob/main/TFG_Higgs.ipynb\" target=\"_parent\"><img src=\"https://colab.research.google.com/assets/colab-badge.svg\" alt=\"Open In Colab\"/></a>"
      ]
    },
    {
      "cell_type": "code",
      "metadata": {
        "id": "Vfs2lVs632_I",
        "colab": {
          "base_uri": "https://localhost:8080/"
        },
        "outputId": "0e0982b3-72de-46c0-db95-cbd455435a23"
      },
      "source": [
        "import numpy as np\n",
        "from matplotlib import pyplot as pp\n",
        "import random\n",
        "!pip install pandas \n",
        "import pandas as pd\n",
        "import matplotlib.pyplot as plt\n",
        "import tensorflow as tf\n",
        "import keras"
      ],
      "execution_count": null,
      "outputs": [
        {
          "output_type": "stream",
          "text": [
            "Requirement already satisfied: pandas in /usr/local/lib/python3.7/dist-packages (1.1.5)\n",
            "Requirement already satisfied: pytz>=2017.2 in /usr/local/lib/python3.7/dist-packages (from pandas) (2018.9)\n",
            "Requirement already satisfied: numpy>=1.15.4 in /usr/local/lib/python3.7/dist-packages (from pandas) (1.19.5)\n",
            "Requirement already satisfied: python-dateutil>=2.7.3 in /usr/local/lib/python3.7/dist-packages (from pandas) (2.8.1)\n",
            "Requirement already satisfied: six>=1.5 in /usr/local/lib/python3.7/dist-packages (from python-dateutil>=2.7.3->pandas) (1.15.0)\n"
          ],
          "name": "stdout"
        }
      ]
    },
    {
      "cell_type": "code",
      "metadata": {
        "id": "xgrFMi_ybk3S",
        "colab": {
          "base_uri": "https://localhost:8080/"
        },
        "outputId": "28425ab6-0830-4b91-8a0f-0471a86f5da4"
      },
      "source": [
        "from google.colab import drive\n",
        "drive.mount('/content/drive')"
      ],
      "execution_count": null,
      "outputs": [
        {
          "output_type": "stream",
          "text": [
            "Mounted at /content/drive\n"
          ],
          "name": "stdout"
        }
      ]
    },
    {
      "cell_type": "code",
      "metadata": {
        "id": "nPadlIz64es6"
      },
      "source": [
        "from keras.models import Sequential\n",
        "from keras.layers import Dense, LSTM, Dropout, LeakyReLU, Embedding, SimpleRNN, Input\n",
        "from tensorflow.keras import layers, models\n",
        "from tensorflow.keras.models import Model\n",
        "from sklearn.model_selection import train_test_split\n",
        "from sklearn.preprocessing import StandardScaler, normalize\n",
        "from sklearn.metrics import confusion_matrix, ConfusionMatrixDisplay\n",
        "from keras.utils import to_categorical\n",
        "import sklearn.metrics\n",
        "import sklearn"
      ],
      "execution_count": null,
      "outputs": []
    },
    {
      "cell_type": "code",
      "metadata": {
        "id": "-Rgoi3KZ0C0F"
      },
      "source": [
        "data=pd.read_csv('/content/drive/MyDrive/TFG/training.csv',sep=',')\n",
        "datatest=pd.read_csv('/content/drive/MyDrive/TFG/test.csv',sep=',')"
      ],
      "execution_count": null,
      "outputs": []
    },
    {
      "cell_type": "code",
      "metadata": {
        "colab": {
          "base_uri": "https://localhost:8080/",
          "height": 216
        },
        "id": "pML6PrDM4Ba9",
        "outputId": "0d603d2a-bbd0-41e1-f245-5cab277de2d1"
      },
      "source": [
        "data.head()"
      ],
      "execution_count": null,
      "outputs": [
        {
          "output_type": "execute_result",
          "data": {
            "text/html": [
              "<div>\n",
              "<style scoped>\n",
              "    .dataframe tbody tr th:only-of-type {\n",
              "        vertical-align: middle;\n",
              "    }\n",
              "\n",
              "    .dataframe tbody tr th {\n",
              "        vertical-align: top;\n",
              "    }\n",
              "\n",
              "    .dataframe thead th {\n",
              "        text-align: right;\n",
              "    }\n",
              "</style>\n",
              "<table border=\"1\" class=\"dataframe\">\n",
              "  <thead>\n",
              "    <tr style=\"text-align: right;\">\n",
              "      <th></th>\n",
              "      <th>EventId</th>\n",
              "      <th>DER_mass_MMC</th>\n",
              "      <th>DER_mass_transverse_met_lep</th>\n",
              "      <th>DER_mass_vis</th>\n",
              "      <th>DER_pt_h</th>\n",
              "      <th>DER_deltaeta_jet_jet</th>\n",
              "      <th>DER_mass_jet_jet</th>\n",
              "      <th>DER_prodeta_jet_jet</th>\n",
              "      <th>DER_deltar_tau_lep</th>\n",
              "      <th>DER_pt_tot</th>\n",
              "      <th>DER_sum_pt</th>\n",
              "      <th>DER_pt_ratio_lep_tau</th>\n",
              "      <th>DER_met_phi_centrality</th>\n",
              "      <th>DER_lep_eta_centrality</th>\n",
              "      <th>PRI_tau_pt</th>\n",
              "      <th>PRI_tau_eta</th>\n",
              "      <th>PRI_tau_phi</th>\n",
              "      <th>PRI_lep_pt</th>\n",
              "      <th>PRI_lep_eta</th>\n",
              "      <th>PRI_lep_phi</th>\n",
              "      <th>PRI_met</th>\n",
              "      <th>PRI_met_phi</th>\n",
              "      <th>PRI_met_sumet</th>\n",
              "      <th>PRI_jet_num</th>\n",
              "      <th>PRI_jet_leading_pt</th>\n",
              "      <th>PRI_jet_leading_eta</th>\n",
              "      <th>PRI_jet_leading_phi</th>\n",
              "      <th>PRI_jet_subleading_pt</th>\n",
              "      <th>PRI_jet_subleading_eta</th>\n",
              "      <th>PRI_jet_subleading_phi</th>\n",
              "      <th>PRI_jet_all_pt</th>\n",
              "      <th>Weight</th>\n",
              "      <th>Label</th>\n",
              "    </tr>\n",
              "  </thead>\n",
              "  <tbody>\n",
              "    <tr>\n",
              "      <th>0</th>\n",
              "      <td>100000</td>\n",
              "      <td>138.470</td>\n",
              "      <td>51.655</td>\n",
              "      <td>97.827</td>\n",
              "      <td>27.980</td>\n",
              "      <td>0.91</td>\n",
              "      <td>124.711</td>\n",
              "      <td>2.666</td>\n",
              "      <td>3.064</td>\n",
              "      <td>41.928</td>\n",
              "      <td>197.760</td>\n",
              "      <td>1.582</td>\n",
              "      <td>1.396</td>\n",
              "      <td>0.2</td>\n",
              "      <td>32.638</td>\n",
              "      <td>1.017</td>\n",
              "      <td>0.381</td>\n",
              "      <td>51.626</td>\n",
              "      <td>2.273</td>\n",
              "      <td>-2.414</td>\n",
              "      <td>16.824</td>\n",
              "      <td>-0.277</td>\n",
              "      <td>258.733</td>\n",
              "      <td>2</td>\n",
              "      <td>67.435</td>\n",
              "      <td>2.150</td>\n",
              "      <td>0.444</td>\n",
              "      <td>46.062</td>\n",
              "      <td>1.24</td>\n",
              "      <td>-2.475</td>\n",
              "      <td>113.497</td>\n",
              "      <td>0.002653</td>\n",
              "      <td>s</td>\n",
              "    </tr>\n",
              "    <tr>\n",
              "      <th>1</th>\n",
              "      <td>100001</td>\n",
              "      <td>160.937</td>\n",
              "      <td>68.768</td>\n",
              "      <td>103.235</td>\n",
              "      <td>48.146</td>\n",
              "      <td>-999.00</td>\n",
              "      <td>-999.000</td>\n",
              "      <td>-999.000</td>\n",
              "      <td>3.473</td>\n",
              "      <td>2.078</td>\n",
              "      <td>125.157</td>\n",
              "      <td>0.879</td>\n",
              "      <td>1.414</td>\n",
              "      <td>-999.0</td>\n",
              "      <td>42.014</td>\n",
              "      <td>2.039</td>\n",
              "      <td>-3.011</td>\n",
              "      <td>36.918</td>\n",
              "      <td>0.501</td>\n",
              "      <td>0.103</td>\n",
              "      <td>44.704</td>\n",
              "      <td>-1.916</td>\n",
              "      <td>164.546</td>\n",
              "      <td>1</td>\n",
              "      <td>46.226</td>\n",
              "      <td>0.725</td>\n",
              "      <td>1.158</td>\n",
              "      <td>-999.000</td>\n",
              "      <td>-999.00</td>\n",
              "      <td>-999.000</td>\n",
              "      <td>46.226</td>\n",
              "      <td>2.233584</td>\n",
              "      <td>b</td>\n",
              "    </tr>\n",
              "    <tr>\n",
              "      <th>2</th>\n",
              "      <td>100002</td>\n",
              "      <td>-999.000</td>\n",
              "      <td>162.172</td>\n",
              "      <td>125.953</td>\n",
              "      <td>35.635</td>\n",
              "      <td>-999.00</td>\n",
              "      <td>-999.000</td>\n",
              "      <td>-999.000</td>\n",
              "      <td>3.148</td>\n",
              "      <td>9.336</td>\n",
              "      <td>197.814</td>\n",
              "      <td>3.776</td>\n",
              "      <td>1.414</td>\n",
              "      <td>-999.0</td>\n",
              "      <td>32.154</td>\n",
              "      <td>-0.705</td>\n",
              "      <td>-2.093</td>\n",
              "      <td>121.409</td>\n",
              "      <td>-0.953</td>\n",
              "      <td>1.052</td>\n",
              "      <td>54.283</td>\n",
              "      <td>-2.186</td>\n",
              "      <td>260.414</td>\n",
              "      <td>1</td>\n",
              "      <td>44.251</td>\n",
              "      <td>2.053</td>\n",
              "      <td>-2.028</td>\n",
              "      <td>-999.000</td>\n",
              "      <td>-999.00</td>\n",
              "      <td>-999.000</td>\n",
              "      <td>44.251</td>\n",
              "      <td>2.347389</td>\n",
              "      <td>b</td>\n",
              "    </tr>\n",
              "    <tr>\n",
              "      <th>3</th>\n",
              "      <td>100003</td>\n",
              "      <td>143.905</td>\n",
              "      <td>81.417</td>\n",
              "      <td>80.943</td>\n",
              "      <td>0.414</td>\n",
              "      <td>-999.00</td>\n",
              "      <td>-999.000</td>\n",
              "      <td>-999.000</td>\n",
              "      <td>3.310</td>\n",
              "      <td>0.414</td>\n",
              "      <td>75.968</td>\n",
              "      <td>2.354</td>\n",
              "      <td>-1.285</td>\n",
              "      <td>-999.0</td>\n",
              "      <td>22.647</td>\n",
              "      <td>-1.655</td>\n",
              "      <td>0.010</td>\n",
              "      <td>53.321</td>\n",
              "      <td>-0.522</td>\n",
              "      <td>-3.100</td>\n",
              "      <td>31.082</td>\n",
              "      <td>0.060</td>\n",
              "      <td>86.062</td>\n",
              "      <td>0</td>\n",
              "      <td>-999.000</td>\n",
              "      <td>-999.000</td>\n",
              "      <td>-999.000</td>\n",
              "      <td>-999.000</td>\n",
              "      <td>-999.00</td>\n",
              "      <td>-999.000</td>\n",
              "      <td>-0.000</td>\n",
              "      <td>5.446378</td>\n",
              "      <td>b</td>\n",
              "    </tr>\n",
              "    <tr>\n",
              "      <th>4</th>\n",
              "      <td>100004</td>\n",
              "      <td>175.864</td>\n",
              "      <td>16.915</td>\n",
              "      <td>134.805</td>\n",
              "      <td>16.405</td>\n",
              "      <td>-999.00</td>\n",
              "      <td>-999.000</td>\n",
              "      <td>-999.000</td>\n",
              "      <td>3.891</td>\n",
              "      <td>16.405</td>\n",
              "      <td>57.983</td>\n",
              "      <td>1.056</td>\n",
              "      <td>-1.385</td>\n",
              "      <td>-999.0</td>\n",
              "      <td>28.209</td>\n",
              "      <td>-2.197</td>\n",
              "      <td>-2.231</td>\n",
              "      <td>29.774</td>\n",
              "      <td>0.798</td>\n",
              "      <td>1.569</td>\n",
              "      <td>2.723</td>\n",
              "      <td>-0.871</td>\n",
              "      <td>53.131</td>\n",
              "      <td>0</td>\n",
              "      <td>-999.000</td>\n",
              "      <td>-999.000</td>\n",
              "      <td>-999.000</td>\n",
              "      <td>-999.000</td>\n",
              "      <td>-999.00</td>\n",
              "      <td>-999.000</td>\n",
              "      <td>0.000</td>\n",
              "      <td>6.245333</td>\n",
              "      <td>b</td>\n",
              "    </tr>\n",
              "  </tbody>\n",
              "</table>\n",
              "</div>"
            ],
            "text/plain": [
              "   EventId  DER_mass_MMC  ...    Weight  Label\n",
              "0   100000       138.470  ...  0.002653      s\n",
              "1   100001       160.937  ...  2.233584      b\n",
              "2   100002      -999.000  ...  2.347389      b\n",
              "3   100003       143.905  ...  5.446378      b\n",
              "4   100004       175.864  ...  6.245333      b\n",
              "\n",
              "[5 rows x 33 columns]"
            ]
          },
          "metadata": {
            "tags": []
          },
          "execution_count": 12
        }
      ]
    },
    {
      "cell_type": "code",
      "metadata": {
        "colab": {
          "base_uri": "https://localhost:8080/"
        },
        "id": "2VZM2EU9DYhI",
        "outputId": "c58ec149-5ea5-4502-faea-576f7ad07c4a"
      },
      "source": [
        "X=data.iloc[:,1:31]\n",
        "Y=pd.factorize(data['Label'])[0]\n",
        "X_train, X_test, Y_train, Y_test = train_test_split(X,Y,random_state=2)\n",
        "print(Y)"
      ],
      "execution_count": null,
      "outputs": [
        {
          "output_type": "stream",
          "text": [
            "[0 1 1 ... 0 1 1]\n"
          ],
          "name": "stdout"
        }
      ]
    },
    {
      "cell_type": "code",
      "metadata": {
        "id": "Lwu9GZ3ISXGZ"
      },
      "source": [
        "scaler = StandardScaler().fit(X_train)\n",
        "X_train = scaler.transform(X_train)\n",
        "X_test = scaler.transform(X_test)"
      ],
      "execution_count": null,
      "outputs": []
    },
    {
      "cell_type": "code",
      "metadata": {
        "id": "L1lcGVs18YKf"
      },
      "source": [
        "Y_train = to_categorical(Y_train)\n",
        "Y_test= to_categorical(Y_test)"
      ],
      "execution_count": null,
      "outputs": []
    },
    {
      "cell_type": "code",
      "metadata": {
        "colab": {
          "base_uri": "https://localhost:8080/"
        },
        "id": "JneyPq3_AkAc",
        "outputId": "662d0a18-a700-4143-937d-2ec6c1d2d20b"
      },
      "source": [
        "print(np.shape(X_train),np.shape(Y_train),np.shape(X_test),np.shape(Y_test))\n",
        "print(type(X_train),type(Y_train),type(X_test),type(Y_test))"
      ],
      "execution_count": null,
      "outputs": [
        {
          "output_type": "stream",
          "text": [
            "(187500, 30) (187500, 2) (62500, 30) (62500, 2)\n",
            "<class 'numpy.ndarray'> <class 'numpy.ndarray'> <class 'numpy.ndarray'> <class 'numpy.ndarray'>\n"
          ],
          "name": "stdout"
        }
      ]
    },
    {
      "cell_type": "code",
      "metadata": {
        "colab": {
          "base_uri": "https://localhost:8080/"
        },
        "id": "aTLK6cLYGwdE",
        "outputId": "da6748a2-864d-444b-a0dd-bda473aef1da"
      },
      "source": [
        "model = Sequential()\n",
        "model.add(Dense(30, activation='relu', input_shape=(X_train[0].shape)))\n",
        "model.add(Dense(50, activation='relu'))\n",
        "model.add(Dense(2, activation='sigmoid'))\n",
        "model.compile(loss='binary_crossentropy', optimizer='Adam', metrics=['accuracy'])\n",
        "model.summary()"
      ],
      "execution_count": null,
      "outputs": [
        {
          "output_type": "stream",
          "text": [
            "Model: \"sequential_3\"\n",
            "_________________________________________________________________\n",
            "Layer (type)                 Output Shape              Param #   \n",
            "=================================================================\n",
            "dense_9 (Dense)              (None, 30)                930       \n",
            "_________________________________________________________________\n",
            "dense_10 (Dense)             (None, 50)                1550      \n",
            "_________________________________________________________________\n",
            "dense_11 (Dense)             (None, 2)                 102       \n",
            "=================================================================\n",
            "Total params: 2,582\n",
            "Trainable params: 2,582\n",
            "Non-trainable params: 0\n",
            "_________________________________________________________________\n"
          ],
          "name": "stdout"
        }
      ]
    },
    {
      "cell_type": "code",
      "metadata": {
        "id": "aNdZSvbnIs1D",
        "colab": {
          "base_uri": "https://localhost:8080/"
        },
        "outputId": "5d3edf4b-53d3-4751-a226-9ab287df38b8"
      },
      "source": [
        "history=model.fit(X_train, Y_train,validation_split = 0.25,epochs=30, verbose=1)"
      ],
      "execution_count": null,
      "outputs": [
        {
          "output_type": "stream",
          "text": [
            "Epoch 1/30\n",
            "4395/4395 [==============================] - 8s 2ms/step - loss: 0.4613 - accuracy: 0.7731 - val_loss: 0.3895 - val_accuracy: 0.8231\n",
            "Epoch 2/30\n",
            "4395/4395 [==============================] - 7s 2ms/step - loss: 0.3858 - accuracy: 0.8258 - val_loss: 0.3780 - val_accuracy: 0.8303\n",
            "Epoch 3/30\n",
            "4395/4395 [==============================] - 7s 2ms/step - loss: 0.3786 - accuracy: 0.8280 - val_loss: 0.3765 - val_accuracy: 0.8304\n",
            "Epoch 4/30\n",
            "4395/4395 [==============================] - 7s 2ms/step - loss: 0.3733 - accuracy: 0.8323 - val_loss: 0.3786 - val_accuracy: 0.8283\n",
            "Epoch 5/30\n",
            "4395/4395 [==============================] - 7s 2ms/step - loss: 0.3706 - accuracy: 0.8326 - val_loss: 0.3737 - val_accuracy: 0.8325\n",
            "Epoch 6/30\n",
            "4395/4395 [==============================] - 7s 2ms/step - loss: 0.3687 - accuracy: 0.8344 - val_loss: 0.3757 - val_accuracy: 0.8299\n",
            "Epoch 7/30\n",
            "4395/4395 [==============================] - 7s 2ms/step - loss: 0.3667 - accuracy: 0.8343 - val_loss: 0.3696 - val_accuracy: 0.8343\n",
            "Epoch 8/30\n",
            "4395/4395 [==============================] - 7s 2ms/step - loss: 0.3648 - accuracy: 0.8353 - val_loss: 0.3692 - val_accuracy: 0.8355\n",
            "Epoch 9/30\n",
            "4395/4395 [==============================] - 7s 2ms/step - loss: 0.3663 - accuracy: 0.8348 - val_loss: 0.3692 - val_accuracy: 0.8341\n",
            "Epoch 10/30\n",
            "4395/4395 [==============================] - 7s 2ms/step - loss: 0.3609 - accuracy: 0.8375 - val_loss: 0.3681 - val_accuracy: 0.8360\n",
            "Epoch 11/30\n",
            "4395/4395 [==============================] - 7s 2ms/step - loss: 0.3629 - accuracy: 0.8374 - val_loss: 0.3712 - val_accuracy: 0.8337\n",
            "Epoch 12/30\n",
            "4395/4395 [==============================] - 7s 2ms/step - loss: 0.3630 - accuracy: 0.8376 - val_loss: 0.3700 - val_accuracy: 0.8331\n",
            "Epoch 13/30\n",
            "4395/4395 [==============================] - 7s 2ms/step - loss: 0.3647 - accuracy: 0.8360 - val_loss: 0.3678 - val_accuracy: 0.8351\n",
            "Epoch 14/30\n",
            "4395/4395 [==============================] - 7s 2ms/step - loss: 0.3613 - accuracy: 0.8372 - val_loss: 0.3666 - val_accuracy: 0.8353\n",
            "Epoch 15/30\n",
            "4395/4395 [==============================] - 7s 2ms/step - loss: 0.3636 - accuracy: 0.8364 - val_loss: 0.3682 - val_accuracy: 0.8359\n",
            "Epoch 16/30\n",
            "4395/4395 [==============================] - 7s 2ms/step - loss: 0.3613 - accuracy: 0.8368 - val_loss: 0.3667 - val_accuracy: 0.8372\n",
            "Epoch 17/30\n",
            "4395/4395 [==============================] - 8s 2ms/step - loss: 0.3636 - accuracy: 0.8360 - val_loss: 0.3692 - val_accuracy: 0.8352\n",
            "Epoch 18/30\n",
            "4395/4395 [==============================] - 7s 2ms/step - loss: 0.3599 - accuracy: 0.8384 - val_loss: 0.3700 - val_accuracy: 0.8345\n",
            "Epoch 19/30\n",
            "4395/4395 [==============================] - 7s 2ms/step - loss: 0.3609 - accuracy: 0.8379 - val_loss: 0.3670 - val_accuracy: 0.8362\n",
            "Epoch 20/30\n",
            "4395/4395 [==============================] - 7s 2ms/step - loss: 0.3587 - accuracy: 0.8392 - val_loss: 0.3662 - val_accuracy: 0.8370\n",
            "Epoch 21/30\n",
            "4395/4395 [==============================] - 7s 2ms/step - loss: 0.3587 - accuracy: 0.8393 - val_loss: 0.3660 - val_accuracy: 0.8369\n",
            "Epoch 22/30\n",
            "4395/4395 [==============================] - 7s 2ms/step - loss: 0.3597 - accuracy: 0.8373 - val_loss: 0.3657 - val_accuracy: 0.8367\n",
            "Epoch 23/30\n",
            "4395/4395 [==============================] - 7s 2ms/step - loss: 0.3594 - accuracy: 0.8383 - val_loss: 0.3685 - val_accuracy: 0.8358\n",
            "Epoch 24/30\n",
            "4395/4395 [==============================] - 8s 2ms/step - loss: 0.3566 - accuracy: 0.8403 - val_loss: 0.3661 - val_accuracy: 0.8360\n",
            "Epoch 25/30\n",
            "4395/4395 [==============================] - 8s 2ms/step - loss: 0.3566 - accuracy: 0.8400 - val_loss: 0.3667 - val_accuracy: 0.8354\n",
            "Epoch 26/30\n",
            "4395/4395 [==============================] - 7s 2ms/step - loss: 0.3606 - accuracy: 0.8377 - val_loss: 0.3687 - val_accuracy: 0.8352\n",
            "Epoch 27/30\n",
            "4395/4395 [==============================] - 7s 2ms/step - loss: 0.3566 - accuracy: 0.8407 - val_loss: 0.3669 - val_accuracy: 0.8360\n",
            "Epoch 28/30\n",
            "4395/4395 [==============================] - 7s 2ms/step - loss: 0.3580 - accuracy: 0.8376 - val_loss: 0.3659 - val_accuracy: 0.8373\n",
            "Epoch 29/30\n",
            "4395/4395 [==============================] - 7s 2ms/step - loss: 0.3595 - accuracy: 0.8379 - val_loss: 0.3680 - val_accuracy: 0.8359\n",
            "Epoch 30/30\n",
            "4395/4395 [==============================] - 7s 2ms/step - loss: 0.3593 - accuracy: 0.8382 - val_loss: 0.3660 - val_accuracy: 0.8357\n"
          ],
          "name": "stdout"
        }
      ]
    },
    {
      "cell_type": "code",
      "metadata": {
        "id": "5CUxp1ENE0q-",
        "colab": {
          "base_uri": "https://localhost:8080/",
          "height": 838
        },
        "outputId": "3ec9f7f4-55f0-4498-c211-6c609377c061"
      },
      "source": [
        "model.evaluate(X_test, Y_test)\n",
        "plt.plot(history.history['accuracy'])\n",
        "plt.plot(history.history['val_accuracy'])\n",
        "plt.title('Model Accuracy')\n",
        "plt.ylabel('Accuracy')\n",
        "plt.xlabel('Epoch')\n",
        "plt.legend(['Train', 'Validation'], loc='upper left')\n",
        "#plt.savefig('/content/drive/MyDrive/TFG/CNN1/Acuracy.png')\n",
        "plt.show()\n",
        "plt.plot(history.history['loss'])\n",
        "plt.plot(history.history['val_loss'])\n",
        "plt.title('Model Loss')\n",
        "plt.ylabel('Loss')\n",
        "plt.xlabel('Epoch')\n",
        "plt.legend(['Train', 'Validation'], loc='upper left')\n",
        "#plt.savefig('/content/drive/MyDrive/TFG/CNN1/Loss.png')\n",
        "plt.show()\n",
        "Y_pred=np.argmax(model.predict(X_test),axis=1)\n",
        "Y_test2=np.argmax(Y_test,axis=1)\n",
        "confusion = sklearn.metrics.confusion_matrix(Y_test2,Y_pred,normalize='true')\n",
        "import seaborn as sb\n",
        "sb.heatmap(confusion,cbar=False,cmap='Greens',annot=True)\n",
        "#plt.savefig('/content/drive/MyDrive/TFG/CNN1/CM.png')\n",
        "plt.show()"
      ],
      "execution_count": null,
      "outputs": [
        {
          "output_type": "stream",
          "text": [
            "1954/1954 [==============================] - 2s 923us/step - loss: 0.3672 - accuracy: 0.8343\n"
          ],
          "name": "stdout"
        },
        {
          "output_type": "display_data",
          "data": {
            "image/png": "[encoded data removed]",
            "text/plain": [
              "<Figure size 432x288 with 1 Axes>"
            ]
          },
          "metadata": {
            "tags": [],
            "needs_background": "light"
          }
        },
        {
          "output_type": "display_data",
          "data": {
            "image/png": "[encoded data removed]",
            "text/plain": [
              "<Figure size 432x288 with 1 Axes>"
            ]
          },
          "metadata": {
            "tags": [],
            "needs_background": "light"
          }
        },
        {
          "output_type": "display_data",
          "data": {
            "image/png": "[encoded data removed]",
            "text/plain": [
              "<Figure size 432x288 with 1 Axes>"
            ]
          },
          "metadata": {
            "tags": [],
            "needs_background": "light"
          }
        }
      ]
    },
    {
      "cell_type": "code",
      "metadata": {
        "colab": {
          "base_uri": "https://localhost:8080/"
        },
        "id": "Hfh_oyNBcFns",
        "outputId": "691fde3e-4b65-4849-d303-8c063106d478"
      },
      "source": [
        "model = Sequential()\n",
        "model.add(Dense(30, activation='relu', input_shape=(X_train[0].shape)))\n",
        "model.add(Dense(50, activation='relu'))\n",
        "model.add(Dense(100, activation='relu'))\n",
        "model.add(Dense(50, activation='relu'))\n",
        "model.add(Dense(2, activation='sigmoid'))\n",
        "model.compile(loss='binary_crossentropy', optimizer='Adam', metrics=['accuracy'])\n",
        "model.summary()"
      ],
      "execution_count": null,
      "outputs": [
        {
          "output_type": "stream",
          "text": [
            "Model: \"sequential_4\"\n",
            "_________________________________________________________________\n",
            "Layer (type)                 Output Shape              Param #   \n",
            "=================================================================\n",
            "dense_12 (Dense)             (None, 30)                930       \n",
            "_________________________________________________________________\n",
            "dense_13 (Dense)             (None, 50)                1550      \n",
            "_________________________________________________________________\n",
            "dense_14 (Dense)             (None, 100)               5100      \n",
            "_________________________________________________________________\n",
            "dense_15 (Dense)             (None, 50)                5050      \n",
            "_________________________________________________________________\n",
            "dense_16 (Dense)             (None, 2)                 102       \n",
            "=================================================================\n",
            "Total params: 12,732\n",
            "Trainable params: 12,732\n",
            "Non-trainable params: 0\n",
            "_________________________________________________________________\n"
          ],
          "name": "stdout"
        }
      ]
    },
    {
      "cell_type": "code",
      "metadata": {
        "colab": {
          "base_uri": "https://localhost:8080/"
        },
        "id": "kfsGcifBoioM",
        "outputId": "c35a5cc2-1940-45cf-a7aa-56f7bfb2f862"
      },
      "source": [
        "history=model.fit(X_train, Y_train,validation_split = 0.25 ,epochs=30, verbose=1) #Verbose=0 (silent) Verbose=1 (progress bar)"
      ],
      "execution_count": null,
      "outputs": [
        {
          "output_type": "stream",
          "text": [
            "Epoch 1/30\n",
            "4395/4395 [==============================] - 10s 2ms/step - loss: 0.4417 - accuracy: 0.7894 - val_loss: 0.3814 - val_accuracy: 0.8285\n",
            "Epoch 2/30\n",
            "4395/4395 [==============================] - 9s 2ms/step - loss: 0.3852 - accuracy: 0.8249 - val_loss: 0.3754 - val_accuracy: 0.8326\n",
            "Epoch 3/30\n",
            "4395/4395 [==============================] - 9s 2ms/step - loss: 0.3770 - accuracy: 0.8295 - val_loss: 0.3759 - val_accuracy: 0.8318\n",
            "Epoch 4/30\n",
            "4395/4395 [==============================] - 9s 2ms/step - loss: 0.3724 - accuracy: 0.8316 - val_loss: 0.3720 - val_accuracy: 0.8337\n",
            "Epoch 5/30\n",
            "4395/4395 [==============================] - 9s 2ms/step - loss: 0.3685 - accuracy: 0.8332 - val_loss: 0.3687 - val_accuracy: 0.8340\n",
            "Epoch 6/30\n",
            "4395/4395 [==============================] - 9s 2ms/step - loss: 0.3672 - accuracy: 0.8336 - val_loss: 0.3784 - val_accuracy: 0.8296\n",
            "Epoch 7/30\n",
            "4395/4395 [==============================] - 9s 2ms/step - loss: 0.3677 - accuracy: 0.8344 - val_loss: 0.3729 - val_accuracy: 0.8330\n",
            "Epoch 8/30\n",
            "4395/4395 [==============================] - 9s 2ms/step - loss: 0.3657 - accuracy: 0.8350 - val_loss: 0.3682 - val_accuracy: 0.8354\n",
            "Epoch 9/30\n",
            "4395/4395 [==============================] - 9s 2ms/step - loss: 0.3610 - accuracy: 0.8381 - val_loss: 0.3704 - val_accuracy: 0.8341\n",
            "Epoch 10/30\n",
            "4395/4395 [==============================] - 9s 2ms/step - loss: 0.3667 - accuracy: 0.8349 - val_loss: 0.3673 - val_accuracy: 0.8365\n",
            "Epoch 11/30\n",
            "4395/4395 [==============================] - 9s 2ms/step - loss: 0.3617 - accuracy: 0.8365 - val_loss: 0.3676 - val_accuracy: 0.8357\n",
            "Epoch 12/30\n",
            "4395/4395 [==============================] - 9s 2ms/step - loss: 0.3612 - accuracy: 0.8369 - val_loss: 0.3681 - val_accuracy: 0.8359\n",
            "Epoch 13/30\n",
            "4395/4395 [==============================] - 9s 2ms/step - loss: 0.3587 - accuracy: 0.8397 - val_loss: 0.3669 - val_accuracy: 0.8351\n",
            "Epoch 14/30\n",
            "4395/4395 [==============================] - 9s 2ms/step - loss: 0.3618 - accuracy: 0.8370 - val_loss: 0.3709 - val_accuracy: 0.8344\n",
            "Epoch 15/30\n",
            "4395/4395 [==============================] - 9s 2ms/step - loss: 0.3584 - accuracy: 0.8382 - val_loss: 0.3684 - val_accuracy: 0.8352\n",
            "Epoch 16/30\n",
            "4395/4395 [==============================] - 9s 2ms/step - loss: 0.3590 - accuracy: 0.8385 - val_loss: 0.3741 - val_accuracy: 0.8317\n",
            "Epoch 17/30\n",
            "4395/4395 [==============================] - 9s 2ms/step - loss: 0.3569 - accuracy: 0.8394 - val_loss: 0.3678 - val_accuracy: 0.8355\n",
            "Epoch 18/30\n",
            "4395/4395 [==============================] - 9s 2ms/step - loss: 0.3577 - accuracy: 0.8382 - val_loss: 0.3717 - val_accuracy: 0.8317\n",
            "Epoch 19/30\n",
            "4395/4395 [==============================] - 9s 2ms/step - loss: 0.3563 - accuracy: 0.8385 - val_loss: 0.3707 - val_accuracy: 0.8347\n",
            "Epoch 20/30\n",
            "4395/4395 [==============================] - 9s 2ms/step - loss: 0.3566 - accuracy: 0.8390 - val_loss: 0.3690 - val_accuracy: 0.8353\n",
            "Epoch 21/30\n",
            "4395/4395 [==============================] - 9s 2ms/step - loss: 0.3568 - accuracy: 0.8391 - val_loss: 0.3703 - val_accuracy: 0.8343\n",
            "Epoch 22/30\n",
            "4395/4395 [==============================] - 9s 2ms/step - loss: 0.3525 - accuracy: 0.8423 - val_loss: 0.3669 - val_accuracy: 0.8358\n",
            "Epoch 23/30\n",
            "4395/4395 [==============================] - 9s 2ms/step - loss: 0.3527 - accuracy: 0.8418 - val_loss: 0.3712 - val_accuracy: 0.8361\n",
            "Epoch 24/30\n",
            "4395/4395 [==============================] - 9s 2ms/step - loss: 0.3487 - accuracy: 0.8431 - val_loss: 0.3677 - val_accuracy: 0.8354\n",
            "Epoch 25/30\n",
            "4395/4395 [==============================] - 9s 2ms/step - loss: 0.3522 - accuracy: 0.8397 - val_loss: 0.3682 - val_accuracy: 0.8353\n",
            "Epoch 26/30\n",
            "4395/4395 [==============================] - 9s 2ms/step - loss: 0.3496 - accuracy: 0.8423 - val_loss: 0.3690 - val_accuracy: 0.8363\n",
            "Epoch 27/30\n",
            "4395/4395 [==============================] - 9s 2ms/step - loss: 0.3537 - accuracy: 0.8418 - val_loss: 0.3695 - val_accuracy: 0.8360\n",
            "Epoch 28/30\n",
            "4395/4395 [==============================] - 9s 2ms/step - loss: 0.3518 - accuracy: 0.8427 - val_loss: 0.3733 - val_accuracy: 0.8348\n",
            "Epoch 29/30\n",
            "4395/4395 [==============================] - 9s 2ms/step - loss: 0.3482 - accuracy: 0.8454 - val_loss: 0.3704 - val_accuracy: 0.8343\n",
            "Epoch 30/30\n",
            "4395/4395 [==============================] - 9s 2ms/step - loss: 0.3532 - accuracy: 0.8407 - val_loss: 0.3697 - val_accuracy: 0.8364\n"
          ],
          "name": "stdout"
        }
      ]
    },
    {
      "cell_type": "code",
      "metadata": {
        "colab": {
          "base_uri": "https://localhost:8080/",
          "height": 838
        },
        "id": "3WeMTgl_cKvJ",
        "outputId": "eb744496-138c-4db5-f4ed-f45b1ba95439"
      },
      "source": [
        "#model.save('/content/drive/MyDrive/TFG/CNN1')\n",
        "model.evaluate(X_test, Y_test)\n",
        "plt.plot(history.history['accuracy'])\n",
        "plt.plot(history.history['val_accuracy'])\n",
        "plt.title('Model Accuracy')\n",
        "plt.ylabel('Accuracy')\n",
        "plt.xlabel('Epoch')\n",
        "plt.legend(['Train', 'Validation'], loc='upper left')\n",
        "#plt.savefig('/content/drive/MyDrive/TFG/CNN1/Acuracy.png')\n",
        "plt.show()\n",
        "plt.plot(history.history['loss'])\n",
        "plt.plot(history.history['val_loss'])\n",
        "plt.title('Model Loss')\n",
        "plt.ylabel('Loss')\n",
        "plt.xlabel('Epoch')\n",
        "plt.legend(['Train', 'Validation'], loc='upper left')\n",
        "#plt.savefig('/content/drive/MyDrive/TFG/CNN1/Loss.png')\n",
        "plt.show()\n",
        "Y_pred=np.argmax(model.predict(X_test),axis=1)\n",
        "Y_test2=np.argmax(Y_test,axis=1)\n",
        "confusion = sklearn.metrics.confusion_matrix(Y_test2,Y_pred,normalize='true')\n",
        "import seaborn as sb\n",
        "sb.heatmap(confusion,cbar=False,cmap='Blues',annot=True)\n",
        "#plt.savefig('/content/drive/MyDrive/TFG/CNN1/CM.png')\n",
        "plt.show()"
      ],
      "execution_count": null,
      "outputs": [
        {
          "output_type": "stream",
          "text": [
            "1954/1954 [==============================] - 2s 1ms/step - loss: 0.3719 - accuracy: 0.8330\n"
          ],
          "name": "stdout"
        },
        {
          "output_type": "display_data",
          "data": {
            "image/png": "[encoded data removed]",
            "text/plain": [
              "<Figure size 432x288 with 1 Axes>"
            ]
          },
          "metadata": {
            "tags": [],
            "needs_background": "light"
          }
        },
        {
          "output_type": "display_data",
          "data": {
            "image/png": "[encoded data removed]",
            "text/plain": [
              "<Figure size 432x288 with 1 Axes>"
            ]
          },
          "metadata": {
            "tags": [],
            "needs_background": "light"
          }
        },
        {
          "output_type": "display_data",
          "data": {
            "image/png": "[encoded data removed]",
            "text/plain": [
              "<Figure size 432x288 with 1 Axes>"
            ]
          },
          "metadata": {
            "tags": [],
            "needs_background": "light"
          }
        }
      ]
    }
  ]
}